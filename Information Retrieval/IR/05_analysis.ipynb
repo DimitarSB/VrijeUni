{
 "cells": [
  {
   "cell_type": "markdown",
   "metadata": {},
   "source": [
    "# Assignment 5: Link Analysis"
   ]
  },
  {
   "cell_type": "markdown",
   "metadata": {},
   "source": [
    "** IMPORTANT NOTE ** Due to a problem with the citations file (which would take too much time for me to re-generate before the start of the assignment), we use a dataset from previous year for this assignment. Please upload the four 'emotion' files from Canvas in your data folder.\n",
    "\n",
    "\n",
    "In this assignment, we will use network-based algorithms, such as PageRank, to improve our search results. After the last assignment on evaluating IR systems, we go back to our PubMed dataset of scientific papers. In this dataset, we look at two graphs in particular: the co-authorship network and the citation network.\n",
    "\n",
    "The citation network is similar to the link network of the web: Citations are like web links pointing to other documents. We can therefore apply the same network-based ranking methods."
   ]
  },
  {
   "cell_type": "markdown",
   "metadata": {},
   "source": [
    "## Code from previous assignments"
   ]
  },
  {
   "cell_type": "code",
   "execution_count": 1,
   "metadata": {
    "tags": []
   },
   "outputs": [
    {
     "name": "stdout",
     "output_type": "stream",
     "text": [
      "Python version: 3.12.7 | packaged by Anaconda, Inc. | (main, Oct  4 2024, 13:17:27) [MSC v.1929 64 bit (AMD64)]\n"
     ]
    }
   ],
   "source": [
    "import sys\n",
    "print(\"Python version:\", sys.version)\n",
    "\n",
    "import pickle, bz2\n",
    "from collections import defaultdict, namedtuple, Counter\n",
    "from math import log10, sqrt\n",
    "from IPython.display import display, HTML\n",
    "import matplotlib.pyplot as plt\n",
    "\n",
    "# show plots inline within the notebook\n",
    "%matplotlib inline\n",
    "# set plots' resolution\n",
    "plt.rcParams['savefig.dpi'] = 100"
   ]
  },
  {
   "cell_type": "code",
   "execution_count": 2,
   "metadata": {
    "tags": []
   },
   "outputs": [],
   "source": [
    "Ids_file = 'data/emotion_Ids.pkl.bz2'\n",
    "Summaries_file = 'data/emotion_Summaries.pkl.bz2'\n",
    "Citations_file = 'data/emotion_Citations.pkl.bz2'\n",
    "Abstracts_file = 'data/emotion_Abstracts.pkl.bz2'\n",
    "\n",
    "Ids = pickle.load( bz2.BZ2File( Ids_file, 'rb' ) )\n",
    "Summaries = pickle.load( bz2.BZ2File( Summaries_file, 'rb' ) )\n",
    "Citations = pickle.load( bz2.BZ2File( Citations_file, 'rb' ) )\n",
    "Abstracts = pickle.load( bz2.BZ2File( Abstracts_file, 'rb' ) )\n",
    "\n",
    "paper = namedtuple( 'paper', ['title', 'authors', 'year', 'doi'] )\n",
    "\n",
    "for (id, paper_info) in Summaries.items():\n",
    "    Summaries[id] = paper( *paper_info )"
   ]
  },
  {
   "cell_type": "code",
   "execution_count": 3,
   "metadata": {
    "tags": []
   },
   "outputs": [],
   "source": [
    "def display_summary( id, show_abstract=False, show_id=True, extra_text='' ):\n",
    "    \"\"\"\n",
    "    Function for printing a paper's summary through IPython's Rich Display System.\n",
    "    Trims long author lists, and adds a link to the paper's DOI (when available).\n",
    "    \"\"\"\n",
    "    s = Summaries[id]\n",
    "    lines = []\n",
    "    title = s.title\n",
    "    if s.doi != '':\n",
    "        title = '<a href=http://dx.doi.org/{:s}>{:s}</a>'.format(s.doi, title)\n",
    "    title = '<strong>' + title + '</strong>'\n",
    "    lines.append(title)\n",
    "    authors = ', '.join( s.authors[:20] ) + ('' if len(s.authors) <= 20 else ', ...')\n",
    "    lines.append(str(s.year) + '. ' + authors)\n",
    "    if (show_abstract):\n",
    "        lines.append('<small><strong>Abstract:</strong> <em>{:s}</em></small>'.format(Abstracts[id]))\n",
    "    if (show_id):\n",
    "        lines.append('[ID: {:d}]'.format(id))\n",
    "    if (extra_text != ''):\n",
    "         lines.append(extra_text)\n",
    "    display( HTML('<br>'.join(lines)) )"
   ]
  },
  {
   "cell_type": "code",
   "execution_count": 4,
   "metadata": {
    "tags": []
   },
   "outputs": [],
   "source": [
    "def tokenize(text):\n",
    "    return text.split(' ')\n",
    "\n",
    "def preprocess(tokens):\n",
    "    result = []\n",
    "    for token in tokens:\n",
    "        result.append(token.lower())\n",
    "    return result"
   ]
  },
  {
   "cell_type": "code",
   "execution_count": 5,
   "metadata": {
    "tags": []
   },
   "outputs": [],
   "source": [
    "inverted_index = defaultdict(list)\n",
    "\n",
    "for id in sorted(Summaries.keys()):\n",
    "    term_set = set(preprocess(tokenize(Summaries[id].title)))\n",
    "    if id in Abstracts:\n",
    "        term_set.update(preprocess(tokenize(Abstracts[id])))\n",
    "    for term in term_set:\n",
    "        inverted_index[term].append(id)\n",
    "\n",
    "tf_matrix = defaultdict(Counter)\n",
    "\n",
    "for doc_id in Summaries.keys():\n",
    "    tokens = preprocess(tokenize(Summaries[doc_id].title))\n",
    "    if (doc_id in Abstracts):\n",
    "        tokens.extend(preprocess(tokenize(Abstracts[doc_id])))\n",
    "    tf_matrix[doc_id] = Counter(tokens)\n",
    "\n",
    "def tf(t,d):\n",
    "    return float(tf_matrix[d][t])\n",
    "\n",
    "def df(t):\n",
    "    return float(len(inverted_index[t]))\n",
    "\n",
    "num_documents = float(len(Summaries))\n",
    "\n",
    "def idf(t):\n",
    "    return log10((num_documents + 1)/(df(t) + 1))\n",
    "\n",
    "def tfidf(t,d):\n",
    "    return tf(t,d) * idf(t)"
   ]
  },
  {
   "cell_type": "markdown",
   "metadata": {},
   "source": [
    "## Co-authorship network"
   ]
  },
  {
   "cell_type": "markdown",
   "metadata": {},
   "source": [
    "We start by building a mapping from authors to the set of identifiers of papers they authored.  We'll be using Python sets again for that purpose."
   ]
  },
  {
   "cell_type": "code",
   "execution_count": 6,
   "metadata": {
    "tags": []
   },
   "outputs": [],
   "source": [
    "papers_of_author = defaultdict(set)\n",
    "\n",
    "for (id, p) in Summaries.items():\n",
    "    for a in p.authors:\n",
    "        papers_of_author[a].add(id)"
   ]
  },
  {
   "cell_type": "markdown",
   "metadata": {},
   "source": [
    "Let's try it out:"
   ]
  },
  {
   "cell_type": "code",
   "execution_count": 7,
   "metadata": {
    "tags": []
   },
   "outputs": [
    {
     "data": {
      "text/plain": [
       "{9309949, 17760288, 31649584}"
      ]
     },
     "execution_count": 7,
     "metadata": {},
     "output_type": "execute_result"
    }
   ],
   "source": [
    "papers_of_author['Eriksen HR']"
   ]
  },
  {
   "cell_type": "code",
   "execution_count": 8,
   "metadata": {
    "tags": []
   },
   "outputs": [
    {
     "data": {
      "text/html": [
       "<strong><a href=http://dx.doi.org/10.3389/fpsyg.2019.02233>Occupational Rehabilitation Is Associated With Improvements in Cognitive Functioning.</a></strong><br>2019. Johansen T, Jensen C, Eriksen HR, Lyby PS, Dittrich WH, Holsen IN, Jakobsen H, Øyeflaten I<br>[ID: 31649584]"
      ],
      "text/plain": [
       "<IPython.core.display.HTML object>"
      ]
     },
     "metadata": {},
     "output_type": "display_data"
    },
    {
     "data": {
      "text/html": [
       "<strong>Psychological selection of Antarctic personnel: the \"SOAP\" instrument.</strong><br>2007. Grant I, Eriksen HR, Marquis P, Orre IJ, Palinkas LA, Suedfeld P, Svensen E, Ursin H<br>[ID: 17760288]"
      ],
      "text/plain": [
       "<IPython.core.display.HTML object>"
      ]
     },
     "metadata": {},
     "output_type": "display_data"
    },
    {
     "data": {
      "text/html": [
       "<strong><a href=http://dx.doi.org/10.1111/1467-9450.00025>The CODE: a revised battery for coping and defense and its relations to subjective health.</a></strong><br>1997. Eriksen HR, Olff M, Ursin H<br>[ID: 9309949]"
      ],
      "text/plain": [
       "<IPython.core.display.HTML object>"
      ]
     },
     "metadata": {},
     "output_type": "display_data"
    }
   ],
   "source": [
    "for id in papers_of_author['Eriksen HR']:\n",
    "    display_summary(id)"
   ]
  },
  {
   "cell_type": "markdown",
   "metadata": {},
   "source": [
    "We can now build a co-authorship network, that is a graph linking authors to the set of co-authors they have published with:"
   ]
  },
  {
   "cell_type": "code",
   "execution_count": 9,
   "metadata": {
    "tags": []
   },
   "outputs": [],
   "source": [
    "coauthors = defaultdict(set)\n",
    "\n",
    "for p in Summaries.values():\n",
    "    for a in p.authors:\n",
    "        coauthors[a].update(p.authors)\n",
    "\n",
    "# The code above results in each author being listed as having co-authored with himself/herself.\n",
    "# We remove these self-references here:\n",
    "for (a, ca) in coauthors.items():\n",
    "    ca.remove(a)"
   ]
  },
  {
   "cell_type": "markdown",
   "metadata": {},
   "source": [
    "And let's try it out again:"
   ]
  },
  {
   "cell_type": "code",
   "execution_count": 10,
   "metadata": {
    "tags": []
   },
   "outputs": [
    {
     "name": "stdout",
     "output_type": "stream",
     "text": [
      "Johansen T, Ursin H, Suedfeld P, Lyby PS, Holsen IN, Jensen C, Øyeflaten I, Grant I, Jakobsen H, Palinkas LA, Svensen E, Orre IJ, Marquis P, Olff M, Dittrich WH\n"
     ]
    }
   ],
   "source": [
    "print(', '.join( coauthors['Eriksen HR'] ))"
   ]
  },
  {
   "cell_type": "markdown",
   "metadata": {},
   "source": [
    "Unlike a citation or link network, the edges of this co-authorship network are not directed: There is no direction (no arrow) in the link between author 'Eriksen HR' and 'Suedfeld P', for example. With our chosen implementation, each of these links in fact appears twice in our data, as we also get 'Eriksen HR' as co-author when we look for 'Suedfeld P':"
   ]
  },
  {
   "cell_type": "code",
   "execution_count": 11,
   "metadata": {
    "tags": []
   },
   "outputs": [
    {
     "name": "stdout",
     "output_type": "stream",
     "text": [
      "Ursin H, Grant I, Palinkas LA, Svensen E, Orre IJ, Eriksen HR, Marquis P\n"
     ]
    }
   ],
   "source": [
    "print(', '.join( coauthors['Suedfeld P'] ))"
   ]
  },
  {
   "cell_type": "markdown",
   "metadata": {},
   "source": [
    "With that in mind, we can calculate some basic statistics about our graph:"
   ]
  },
  {
   "cell_type": "code",
   "execution_count": 12,
   "metadata": {
    "tags": []
   },
   "outputs": [
    {
     "name": "stdout",
     "output_type": "stream",
     "text": [
      "Number of nodes (authors):  99675\n",
      "Number of links (co-authorship relations):  590848\n"
     ]
    }
   ],
   "source": [
    "print('Number of nodes (authors): ', len(coauthors))\n",
    "\n",
    "# We divide by two here to account for the fact that each edge is represented twice (see above):\n",
    "coauthor_rel_count = int(sum( len(c) for c in coauthors.values() ) / 2)\n",
    "print('Number of links (co-authorship relations): ', coauthor_rel_count)"
   ]
  },
  {
   "cell_type": "markdown",
   "metadata": {},
   "source": [
    "With this data at hand, we can plot the [degree distribution](https://en.wikipedia.org/wiki/Degree_distribution) by showing the number of collaborators a scientist has published with:"
   ]
  },
  {
   "cell_type": "code",
   "execution_count": 13,
   "metadata": {
    "tags": []
   },
   "outputs": [
    {
     "data": {
      "image/png": "[encoded data removed]",
      "text/plain": [
       "<Figure size 640x480 with 1 Axes>"
      ]
     },
     "metadata": {},
     "output_type": "display_data"
    }
   ],
   "source": [
    "plt.hist( x=[ len(ca) for ca in coauthors.values() ], bins=range(60) )\n",
    "plt.xlabel('number of co-authors')\n",
    "plt.ylabel('number of researchers')\n",
    "plt.xlim(0,51)\n",
    "plt.show()"
   ]
  },
  {
   "cell_type": "markdown",
   "metadata": {},
   "source": [
    "Now that we have explored this network, let's move to the citation network."
   ]
  },
  {
   "cell_type": "markdown",
   "metadata": {},
   "source": [
    "## Citations network"
   ]
  },
  {
   "cell_type": "markdown",
   "metadata": {},
   "source": [
    "Next, we can look at the citation network. In contrast to the co-authorship network, the citation network is a _directed_ network, where edges can be drawn as arrows. We'll start by expanding the our data about citations into two mappings: \n",
    "\n",
    "* `papers_citing[id]`: papers citing a given paper\n",
    "* `cited_by[id]`: papers cited by a given paper (in other words: its list of references)\n",
    "\n",
    "`papers_citing` will give us the list of a node's incoming links, whereas `cited_by` will give us the list of its outgoing links."
   ]
  },
  {
   "cell_type": "code",
   "execution_count": 14,
   "metadata": {
    "tags": []
   },
   "outputs": [],
   "source": [
    "papers_citing = Citations  # no changes needed, this is what we are storing already in the Citations dataset\n",
    "\n",
    "cited_by = defaultdict(list)\n",
    "\n",
    "for ref, papers_citing_ref in papers_citing.items():\n",
    "    for id in papers_citing_ref:\n",
    "        cited_by[ id ].append( ref )"
   ]
  },
  {
   "cell_type": "markdown",
   "metadata": {},
   "source": [
    "As we are dealing with a subset of the data (the papers mentioning \"emotion\"), `papers_citing` can contain references to papers outside of our subset. On the other hand, the way we created `cited_by`, it will only contain backward references from within our dataset, meaning that it is incomplete with respect to the whole dataset. Nethertheless, we can use this citation network on our subset of emotion-related papers to implement link analysis techniques.\n",
    "\n",
    "Let us now look at an exemplary paper, let's say the one with identifier 26784347. We can now use the `cited_by` mapping to retrieve its (incomplete) list of references:"
   ]
  },
  {
   "cell_type": "code",
   "execution_count": 15,
   "metadata": {
    "tags": []
   },
   "outputs": [
    {
     "name": "stdout",
     "output_type": "stream",
     "text": [
      "39 references found for paper 26784347\n"
     ]
    },
    {
     "data": {
      "text/plain": [
       "{24708508: 'Judgments of subtle facial expressions of emotion.',\n",
       " 24388852: 'Dynamic facial expressions of emotion transmit an evolving hierarchy of signals over time.',\n",
       " 23659578: 'Classification of dynamic facial expressions of emotion presented briefly.',\n",
       " 22876223: 'Attention and awareness each influence amygdala activity for dynamic bodily expressions-a short review.',\n",
       " 22131445: 'The resolution of facial expressions of emotion.',\n",
       " 22081890: 'Introducing the Geneva Multimodal expression corpus for experimental research on emotion perception.',\n",
       " 21859206: 'Moving faces, looking places: validation of the Amsterdam Dynamic Facial Expression Set (ADFES).',\n",
       " 20809200: 'Facial emotion recognition in autism spectrum disorders: a review of behavioral and neuroimaging studies.',\n",
       " 19884144: 'The face is not an empty canvas: how facial expressions interact with facial appearance.',\n",
       " 19803591: 'Emotion recognition from expressions in face, voice, and body: the Multimodal Emotion Recognition Test (MERT).',\n",
       " 19653779: 'Development of a FACS-verified set of basic and self-conscious emotion expressions.',\n",
       " 19501062: 'Emotions in motion: dynamic compared to static facial expressions of disgust and happiness reveal more widespread emotion-specific activations.',\n",
       " 18598725: 'Enhanced facial EMG activity in response to dynamic facial expressions.',\n",
       " 18495094: 'Audio-visual integration of emotion expression.',\n",
       " 18411533: 'Facial expressions of emotion (KDEF): identification under different display-duration conditions.',\n",
       " 18405043: 'Dynamic facial expressions of emotion induce representational momentum.',\n",
       " 18266518: 'The automaticity of emotion recognition.',\n",
       " 18191116: 'Neural circuitry for accurate identification of facial emotions.',\n",
       " 17715585: 'Recognizing emotion from facial expressions: psychological and neurological mechanisms.',\n",
       " 17583430: 'Recognition and discrimination of prototypical dynamic expressions of pain and emotions.',\n",
       " 17566449: 'The Emotion Recognition Task: a paradigm to measure the perception of facial emotional expressions at different intensities.',\n",
       " 17535474: 'Role of motion signals in recognizing subtle facial expressions of emotion.',\n",
       " 15993402: 'Measuring individual differences in sensitivities to basic emotions in faces.',\n",
       " 15491276: 'The relationship among expressions, labels, and descriptions of contempt.',\n",
       " 15130592: 'Enhanced neural activity in response to dynamic facial expressions of emotion: an fMRI study.',\n",
       " 12974567: 'Recognising facial expression from spatially and temporally modified movements.',\n",
       " 12899416: 'What do facial expressions convey: feeling states, behavioral intentions, or action requests?',\n",
       " 12899367: 'Cross-cultural patterns in emotion recognition: highlighting design and analytical techniques.',\n",
       " 11931516: 'On the universality and cultural specificity of emotion recognition: a meta-analysis.',\n",
       " 11515959: 'Dynamic properties influence the perception of facial expressions.',\n",
       " 10856740: 'Caricaturing facial expressions.',\n",
       " 9265191: 'Computer-enhanced emotion in facial expressions.',\n",
       " 8851745: 'Acoustic profiles in vocal emotion expression.',\n",
       " 7861316: 'Components and recognition of facial expression in the communication of emotion by actors.',\n",
       " 7962581: 'Measuring emotion: the Self-Assessment Manikin and the Semantic Differential.',\n",
       " 1506820: 'Neural and behavioral correlates of emotion recognition in children and adults.',\n",
       " 1669960: \"What's basic about basic emotions?\",\n",
       " 5542557: 'Constants across cultures in the face and emotion.',\n",
       " 5773719: 'Pan-cultural elements in facial displays of emotion.'}"
      ]
     },
     "execution_count": 15,
     "metadata": {},
     "output_type": "execute_result"
    }
   ],
   "source": [
    "paper_id = 26784347\n",
    "refs = { id : Summaries[id].title for id in cited_by[paper_id] }\n",
    "print(len(refs), 'references found for paper', paper_id)\n",
    "refs"
   ]
  },
  {
   "cell_type": "markdown",
   "metadata": {},
   "source": [
    "If we lookup the same paper in `papers_citing`, we now see that some of the cited papers are themselves in our dataset, but others are not (shown below as `'??'`):"
   ]
  },
  {
   "cell_type": "code",
   "execution_count": 16,
   "metadata": {
    "tags": []
   },
   "outputs": [
    {
     "data": {
      "text/plain": [
       "{34138924: '??',\n",
       " 33958630: 'The paradoxical role of emotional intensity in the perception of vocal affect.',\n",
       " 33930026: 'SUST Bangla Emotional Speech Corpus (SUBESCO): An audio-only emotional speech corpus for Bangla.',\n",
       " 33053797: 'Recognizing Emotions through Facial Expressions: A Largescale Experimental Study.',\n",
       " 32804342: 'Human and machine validation of 14 databases of dynamic facial expressions.',\n",
       " 32170180: 'Perception of Discrete Emotions in Others: Evidence for Distinct Facial Mimicry Patterns.',\n",
       " 31762947: 'Are you angry at me? Negative interpretations of neutral facial expressions are linked to child maltreatment but not to posttraumatic stress disorder.',\n",
       " 31258497: 'Development and Validation of Verbal Emotion Vignettes in Portuguese, English, and German.',\n",
       " 30800085: '??',\n",
       " 29928240: \"Incongruence Between Observers' and Observed Facial Muscle Activation Reduces Recognition of Emotional Facial Expressions From Video Stimuli.\",\n",
       " 29370198: 'Gender differences in emotion perception and self-reported emotional intelligence: A test of the emotion sensitivity hypothesis.',\n",
       " 29293674: 'Sex differences in facial emotion recognition across varying expression intensity levels from videos.',\n",
       " 27977795: '??'}"
      ]
     },
     "execution_count": 16,
     "metadata": {},
     "output_type": "execute_result"
    }
   ],
   "source": [
    "{ id : Summaries.get(id,['??'])[0]  for id in papers_citing[paper_id] }"
   ]
  },
  {
   "cell_type": "markdown",
   "metadata": {},
   "source": [
    "Paper 34138924, for example, is not in our dataset and we do not have any direct information about it, but its repeated occurrence in other papers' citation lists does allow us to reconstruct some of its references. Below is the list of papers in our dataset cited by that paper:"
   ]
  },
  {
   "cell_type": "code",
   "execution_count": 17,
   "metadata": {
    "tags": []
   },
   "outputs": [
    {
     "name": "stdout",
     "output_type": "stream",
     "text": [
      "20 references identified for the paper with id 34138924\n"
     ]
    },
    {
     "data": {
      "text/plain": [
       "{32804342: 'Human and machine validation of 14 databases of dynamic facial expressions.',\n",
       " 31834900: 'The effect of emotional information from eyes on empathy for pain: A subliminal ERP study.',\n",
       " 31622426: 'Assessing the convergent validity between the automated emotion recognition software Noldus FaceReader 7 and Facial Action Coding System Scoring.',\n",
       " 30744534: \"Validating the Radboud faces database from a child's perspective.\",\n",
       " 30589868: \"Subjective ratings and emotional recognition of children's facial expressions from the CAFE set.\",\n",
       " 30273355: 'Cross-cultural emotion recognition and evaluation of Radboud faces database with an Indian sample.',\n",
       " 29218587: 'Facial expression analysis with AFFDEX and FACET: A validation study.',\n",
       " 28553255: 'Development of the Korean Facial Emotion Stimuli: Korea University Facial Expression Collection 2nd Edition.',\n",
       " 26784347: 'Validation of the Amsterdam Dynamic Facial Expression Set--Bath Intensity Variations (ADFES-BIV): A Set of Videos Expressing Low, Intermediate, and High Intensity Emotions.',\n",
       " 26479048: 'Development and validation of an Argentine set of facial expressions of emotion.',\n",
       " 26157405: 'The adaptive value associated with expressing and perceiving angry-male and happy-female faces.',\n",
       " 25601846: 'Warsaw set of emotional facial expression pictures: a validation study of facial display photographs.',\n",
       " 24238931: 'Biased processing of neutral facial expressions is associated with depressive symptoms and suicide ideation in individuals at risk for major depression due to affective temperaments.',\n",
       " 23196633: 'Reduced emotion processing efficiency in healthy males relative to females.',\n",
       " 22509011: 'Facial expressions of emotion are not culturally universal.',\n",
       " 22503384: 'The Chinese Facial Emotion Recognition Database (CFERD): a computer-generated 3-D paradigm to measure the recognition of facial emotional expressions at different intensities.',\n",
       " 20160315: 'FACES--a database of facial expressions in young, middle-aged, and older women and men: development and validation.',\n",
       " 19803591: 'Emotion recognition from expressions in face, voice, and body: the Multimodal Emotion Recognition Test (MERT).',\n",
       " 8512154: 'Facial expression and emotion.',\n",
       " 5773719: 'Pan-cultural elements in facial displays of emotion.'}"
      ]
     },
     "execution_count": 17,
     "metadata": {},
     "output_type": "execute_result"
    }
   ],
   "source": [
    "paper_id2 = 34138924\n",
    "refs2 = { id : Summaries[id].title for id in cited_by[paper_id2] }\n",
    "print(len(refs2), 'references identified for the paper with id', paper_id2)\n",
    "refs2"
   ]
  },
  {
   "cell_type": "markdown",
   "metadata": {},
   "source": [
    "Now that we have a better understanding about the data we're dealing with, let us obtain again some basic statistics about our graph."
   ]
  },
  {
   "cell_type": "code",
   "execution_count": 18,
   "metadata": {
    "tags": []
   },
   "outputs": [
    {
     "name": "stdout",
     "output_type": "stream",
     "text": [
      "Number of papers in our subset: 46483 (100.00 %)\n",
      "Number of papers cited at least once: 35018 (75.34 %)\n",
      "Number of isolated nodes:  8737 (18.80 %)\n"
     ]
    }
   ],
   "source": [
    "n = len(Ids)\n",
    "print('Number of papers in our subset: {:d} ({:.2f} %)'.format(n, 100.0) )\n",
    "\n",
    "with_citation = [ id for id in Ids if papers_citing[id] != [] ]\n",
    "with_citation_rel = 100. * len(with_citation) / n\n",
    "print('Number of papers cited at least once: {:d} ({:.2f} %)'.format(len(with_citation), with_citation_rel) )\n",
    "\n",
    "isolated = set( id for id in Ids if papers_citing[id] == [] and id not in cited_by )\n",
    "isolated_rel = 100. * len(isolated) / n\n",
    "print('Number of isolated nodes:  {:d} ({:.2f} %)'.format(len(isolated), isolated_rel) )"
   ]
  },
  {
   "cell_type": "code",
   "execution_count": 19,
   "metadata": {
    "tags": []
   },
   "outputs": [
    {
     "name": "stdout",
     "output_type": "stream",
     "text": [
      "Overall number of nodes: 221889 (100.00 %)\n",
      "Number of non-isolated nodes: 213152 (96.06 %)\n",
      "Number of nodes outside our subset: 175406 (79.05 %)\n"
     ]
    }
   ],
   "source": [
    "id_set = set( Ids )\n",
    "citing_set = set( cited_by.keys() )\n",
    "\n",
    "outsiders = citing_set - id_set   # set difference\n",
    "nodes = citing_set | id_set   # set union\n",
    "non_isolated = nodes - isolated   # set difference\n",
    "\n",
    "print('Overall number of nodes: {:d} ({:.2f} %)'.format(len(nodes), 100.0) )\n",
    "\n",
    "non_isolated_rel = 100. * len(non_isolated) / len(nodes)\n",
    "print('Number of non-isolated nodes: {:d} ({:.2f} %)'.format(len(non_isolated), non_isolated_rel) )\n",
    "\n",
    "outsiders_rel = 100. * len(outsiders) / len(nodes)\n",
    "print('Number of nodes outside our subset: {:d} ({:.2f} %)'.format( len(outsiders), outsiders_rel ) )"
   ]
  },
  {
   "cell_type": "code",
   "execution_count": 20,
   "metadata": {
    "tags": []
   },
   "outputs": [
    {
     "name": "stdout",
     "output_type": "stream",
     "text": [
      "Overall number of links (citations): 562891 (100.00 %)\n",
      "Citations outside the subset: 401831 (71.39 %)\n"
     ]
    }
   ],
   "source": [
    "all_citations = [ c for citing in papers_citing.values() for c in citing ]\n",
    "outsider_citations = [ c for citing in papers_citing.values() for c in citing if c in outsiders ]\n",
    "\n",
    "print('Overall number of links (citations): {:d} ({:.2f} %)'.format(len(all_citations), 100.0) )\n",
    "\n",
    "outsider_citations_rel = 100. * len(outsider_citations) / len(all_citations)\n",
    "print('Citations outside the subset: {:d} ({:.2f} %)'.format(len(outsider_citations), outsider_citations_rel) )"
   ]
  },
  {
   "cell_type": "markdown",
   "metadata": {},
   "source": [
    "Let us now find out which 10 papers are the most cited in our dataset."
   ]
  },
  {
   "cell_type": "code",
   "execution_count": 21,
   "metadata": {
    "tags": []
   },
   "outputs": [
    {
     "data": {
      "text/html": [
       "<strong><a href=http://dx.doi.org/10.1146/annurev.neuro.23.1.155>Emotion circuits in the brain.</a></strong><br>2000. LeDoux JE<br>[ID: 10845062]<br>Citation count: 2034"
      ],
      "text/plain": [
       "<IPython.core.display.HTML object>"
      ]
     },
     "metadata": {},
     "output_type": "display_data"
    },
    {
     "data": {
      "text/html": [
       "<strong><a href=http://dx.doi.org/10.1016/s1364-6613(00)01483-2>Cognitive and emotional influences in anterior cingulate cortex.</a></strong><br>2000. Bush G, Luu P, Posner MI<br>[ID: 10827444]<br>Citation count: 1633"
      ],
      "text/plain": [
       "<IPython.core.display.HTML object>"
      ]
     },
     "metadata": {},
     "output_type": "display_data"
    },
    {
     "data": {
      "text/html": [
       "<strong><a href=http://dx.doi.org/10.1038/nrn894>How do you feel? Interoception: the sense of the physiological condition of the body.</a></strong><br>2002. Craig AD<br>[ID: 12154366]<br>Citation count: 1443"
      ],
      "text/plain": [
       "<IPython.core.display.HTML object>"
      ]
     },
     "metadata": {},
     "output_type": "display_data"
    },
    {
     "data": {
      "text/html": [
       "<strong><a href=http://dx.doi.org/10.1037/0022-3514.85.2.348>Individual differences in two emotion regulation processes: implications for affect, relationships, and well-being.</a></strong><br>2003. Gross JJ, John OP<br>[ID: 12916575]<br>Citation count: 1182"
      ],
      "text/plain": [
       "<IPython.core.display.HTML object>"
      ]
     },
     "metadata": {},
     "output_type": "display_data"
    },
    {
     "data": {
      "text/html": [
       "<strong><a href=http://dx.doi.org/10.1016/j.tics.2005.03.010>The cognitive control of emotion.</a></strong><br>2005. Ochsner KN, Gross JJ<br>[ID: 15866151]<br>Citation count: 1181"
      ],
      "text/plain": [
       "<IPython.core.display.HTML object>"
      ]
     },
     "metadata": {},
     "output_type": "display_data"
    },
    {
     "data": {
      "text/html": [
       "<strong><a href=http://dx.doi.org/10.1016/0005-7916(94)90063-9>Measuring emotion: the Self-Assessment Manikin and the Semantic Differential.</a></strong><br>1994. Bradley MM, Lang PJ<br>[ID: 7962581]<br>Citation count: 1064"
      ],
      "text/plain": [
       "<IPython.core.display.HTML object>"
      ]
     },
     "metadata": {},
     "output_type": "display_data"
    },
    {
     "data": {
      "text/html": [
       "<strong><a href=http://dx.doi.org/10.1176/appi.ajp.2007.07030504>Functional neuroimaging of anxiety: a meta-analysis of emotional processing in PTSD, social anxiety disorder, and specific phobia.</a></strong><br>2007. Etkin A, Wager TD<br>[ID: 17898336]<br>Citation count: 1012"
      ],
      "text/plain": [
       "<IPython.core.display.HTML object>"
      ]
     },
     "metadata": {},
     "output_type": "display_data"
    },
    {
     "data": {
      "text/html": [
       "<strong><a href=http://dx.doi.org/10.1038/nn1176>Neural systems supporting interoceptive awareness.</a></strong><br>2004. Critchley HD, Wiens S, Rotshtein P, Ohman A, Dolan RJ<br>[ID: 14730305]<br>Citation count: 963"
      ],
      "text/plain": [
       "<IPython.core.display.HTML object>"
      ]
     },
     "metadata": {},
     "output_type": "display_data"
    },
    {
     "data": {
      "text/html": [
       "<strong><a href=http://dx.doi.org/10.1016/j.tics.2010.11.004>Emotional processing in anterior cingulate and medial prefrontal cortex.</a></strong><br>2011. Etkin A, Egner T, Kalisch R<br>[ID: 21167765]<br>Citation count: 957"
      ],
      "text/plain": [
       "<IPython.core.display.HTML object>"
      ]
     },
     "metadata": {},
     "output_type": "display_data"
    },
    {
     "data": {
      "text/html": [
       "<strong><a href=http://dx.doi.org/10.1016/j.neuron.2005.09.025>Contributions of the amygdala to emotion processing: from animal models to human behavior.</a></strong><br>2005. Phelps EA, LeDoux JE<br>[ID: 16242399]<br>Citation count: 950"
      ],
      "text/plain": [
       "<IPython.core.display.HTML object>"
      ]
     },
     "metadata": {},
     "output_type": "display_data"
    }
   ],
   "source": [
    "citation_count_per_paper = [ (id, len(citations)) for (id,citations) in papers_citing.items() ]\n",
    "sorted_by_citation_count = sorted(citation_count_per_paper, key=lambda i:i[1], reverse=True)\n",
    "\n",
    "for (id, c) in sorted_by_citation_count[:10]:\n",
    "    display_summary(id, extra_text = 'Citation count: ' + str(c))"
   ]
  },
  {
   "cell_type": "markdown",
   "metadata": {},
   "source": [
    "Before we can start calculating some interesting network metrics, we will first have a closer look at the Python package that we are going to use for that."
   ]
  },
  {
   "cell_type": "markdown",
   "metadata": {},
   "source": [
    "## Link Analysis for Search Engines"
   ]
  },
  {
   "cell_type": "markdown",
   "metadata": {},
   "source": [
    "In order to use the citation network, we need to be able to perform some complex graph algorithms on it. To make our lives easier, we will use [NetworkX](https://pypi.python.org/pypi/networkx), a Python package for dealing with complex networks:"
   ]
  },
  {
   "cell_type": "code",
   "execution_count": 22,
   "metadata": {
    "tags": []
   },
   "outputs": [
    {
     "name": "stdout",
     "output_type": "stream",
     "text": [
      "Requirement already satisfied: networkx in c:\\users\\dbach\\anaconda3\\lib\\site-packages (3.3)\n"
     ]
    }
   ],
   "source": [
    "! pip install --user networkx"
   ]
  },
  {
   "cell_type": "code",
   "execution_count": 23,
   "metadata": {
    "tags": []
   },
   "outputs": [],
   "source": [
    "import networkx as nx\n",
    "\n",
    "G = nx.DiGraph(cited_by)"
   ]
  },
  {
   "cell_type": "markdown",
   "metadata": {},
   "source": [
    "We now have a NetworkX Directed Graph stored in `G`, where a node represents a paper, and an edge represents a citation. This means we can now apply the [algorithms](https://networkx.org/documentation/stable/reference/algorithms/index.html) and [functions](https://networkx.org/documentation/stable/reference/functions.html) of NetworkX to our graph:"
   ]
  },
  {
   "cell_type": "code",
   "execution_count": 24,
   "metadata": {
    "tags": []
   },
   "outputs": [
    {
     "name": "stdout",
     "output_type": "stream",
     "text": [
      "Number of nodes: 213152\n",
      "Number of edges: 562891\n",
      "Directed graph: True\n",
      "Density of graph: 1.2389321369843012e-05\n"
     ]
    }
   ],
   "source": [
    "#print(nx.info(G)) //outdated function\n",
    "print('Number of nodes:', G.number_of_nodes())\n",
    "print('Number of edges:', G.number_of_edges())\n",
    "print('Directed graph:', nx.is_directed(G))\n",
    "print('Density of graph:', nx.density(G))"
   ]
  },
  {
   "cell_type": "markdown",
   "metadata": {},
   "source": [
    "As this graph was generated from citations only, we need to add all isolated nodes (nodes that are not cited and do not cite other papers) as well:"
   ]
  },
  {
   "cell_type": "code",
   "execution_count": 25,
   "metadata": {
    "tags": []
   },
   "outputs": [],
   "source": [
    "G.add_nodes_from(isolated)"
   ]
  },
  {
   "cell_type": "markdown",
   "metadata": {},
   "source": [
    "And now we get slightly different values:"
   ]
  },
  {
   "cell_type": "code",
   "execution_count": 26,
   "metadata": {
    "tags": []
   },
   "outputs": [
    {
     "name": "stdout",
     "output_type": "stream",
     "text": [
      "Number of nodes: 221889\n",
      "Number of edges: 562891\n",
      "Directed graph: True\n",
      "Density of graph: 1.1432855547712948e-05\n"
     ]
    }
   ],
   "source": [
    "#print(nx.info(G)) //outdated function\n",
    "print('Number of nodes:', G.number_of_nodes())\n",
    "print('Number of edges:', G.number_of_edges())\n",
    "print('Directed graph:', nx.is_directed(G))\n",
    "print('Density of graph:', nx.density(G))"
   ]
  },
  {
   "cell_type": "markdown",
   "metadata": {},
   "source": [
    "Now we are ready to use this package for our tasks."
   ]
  },
  {
   "cell_type": "markdown",
   "metadata": {},
   "source": [
    "----------"
   ]
  },
  {
   "cell_type": "markdown",
   "metadata": {},
   "source": [
    "# Tasks"
   ]
  },
  {
   "cell_type": "markdown",
   "metadata": {},
   "source": [
    "**Your name:** Dimitar Bachvarov"
   ]
  },
  {
   "cell_type": "markdown",
   "metadata": {},
   "source": [
    "### Task 1\n",
    "\n",
    "Plot the in-degree distribution (that is, the distribution of the number of incoming links; see [here](https://en.wikipedia.org/wiki/Degree_distribution) and [here](http://mathinsight.org/degree_distribution) for more detailed explanations) for the citation network. What can you tell about the shape of this distribution, and what does this tell us about the network?"
   ]
  },
  {
   "cell_type": "code",
   "execution_count": null,
   "metadata": {
    "tags": []
   },
   "outputs": [
    {
     "data": {
      "image/png": "[encoded data removed]",
      "text/plain": [
       "<Figure size 640x480 with 1 Axes>"
      ]
     },
     "metadata": {},
     "output_type": "display_data"
    }
   ],
   "source": [
    "in_degrees = [len(citing_list) for citing_list in papers_citing.values()]\n",
    "plt.hist( x=[ in_degrees ], bins=range(60) )\n",
    "plt.xlabel('number of in_degrees')\n",
    "plt.xlim(0,51)\n",
    "plt.show()\n",
    "\n"
   ]
  },
  {
   "cell_type": "markdown",
   "metadata": {},
   "source": [
    "**Answer:** The in-degree distribution of the citation network is right-skewed, indicating that the majority of papers have either zero or a small number of citations. On the other hand, there are a few nodes with significantly higher in-degrees, which we can identify as \"hubs\". These hubs represent highly cited papers, playing a central role in the network. Not only that but, the shape of the distribution also reflects a scale-free property, which is characterized by the presence of a few highly connected nodes (hubs) and many nodes with low connectivity, typically following a power-law distribution. This creates \"favouritism\", where highly cited papers are more likely to accumulate additional citations over time as opposed to the less cited papers in the network. \n",
    "\n",
    "\n"
   ]
  },
  {
   "cell_type": "markdown",
   "metadata": {},
   "source": [
    "### Task 2\n",
    "\n",
    "Using the [Link Analysis](https://networkx.org/documentation/stable/reference/algorithms/link_analysis.html) algorithms provided by NetworkX, calculate the PageRank score for all nodes in the citation network, and store the result in a variable called `pageranks`.\n",
    "\n",
    "To test this, create first a list of all papers that are cited by exactly 10 other papers (using `papers_citing` defined above). Then sort these papers by their PageRank and retrieve the paper IDs with the maximum and minimum PageRank values. Print these minimum and maximum PageRank values together with their paper IDs.\n",
    "\n",
    "To print PageRank values, you might want to use commands like `print('{:.6f}'.format(var))` to use regular decimal notation with a fixed number of decimal places."
   ]
  },
  {
   "cell_type": "code",
   "execution_count": 28,
   "metadata": {
    "tags": []
   },
   "outputs": [
    {
     "name": "stdout",
     "output_type": "stream",
     "text": [
      "[28402574, 27893222, 25438825, 23964255, 24708501, 23818944, 25796042, 28072041, 26874869, 23527503, 21614450, 24705180, 28116580, 25706831, 25313669, 23942826, 27531389, 23914763, 26206708, 21186914, 25914897, 18662679, 25202287, 27974522, 25557229, 19805486, 26692636, 24298171, 22902063, 29890323, 28602148, 24839437, 27539864, 21590432, 17184747, 31028592, 22795483, 28695672, 26124734, 26786470, 15087581, 29022722, 20452051, 21432687, 26896901, 24841618, 24842590, 22982604, 25818682, 21728906, 19998543, 26836143, 28070784, 24012546, 29899712, 29275843, 28315309, 25664950, 1214214, 29594580, 25629899, 28205606, 27327187, 26681648, 24962465, 15716165, 18798977, 25160677, 21079747, 28523228, 26285212, 7480382, 18423614, 29496613, 25661850, 27065908, 27453724, 29362440, 28377740, 22003396, 32745728, 27039036, 25140051, 24523881, 27060429, 22745745, 31982603, 23477505, 28878699, 28402571, 25140050, 24388802, 23998453, 25139315, 15491276, 24040881, 32906731, 25288043, 27218232, 29534515, 27798259, 19588251, 24594443, 18039042, 30127311, 31920873, 26535941, 11446237, 15814010, 20392782, 27064852, 1355691, 31278951, 23247760, 27495805, 24939872, 21932258, 24307231, 26083379, 28012352, 22697452, 26493772, 17137757, 28369363, 19419842, 29896128, 17557298, 20489219, 22775124, 26410694, 25117603, 20570490, 28255798, 28842278, 26793138, 27990352, 10201283, 22781867, 24573285, 27785656, 27923474, 12553594, 22544230, 27913281, 24058225, 21707144, 27917029, 25502237, 23576810, 15498743, 24594689, 22125514, 12240672, 17949518, 26297011, 22297310, 30251904, 28032270, 21940093, 31622426, 29628065, 17123634, 27855175, 24984981, 27130821, 25295019, 21517167, 26869846, 24256499, 2330392, 25967084, 22856454, 24303577, 24930577, 22823134, 25972790, 27095831, 26900993, 33364600, 26014351, 24968161, 17241148, 23484632, 22048837, 25363639, 26253525, 29246845, 26084980, 23355265, 25708692, 19339096, 26596521, 21182850, 23349397, 20708493, 28123797, 23219103, 23459220, 24146641, 29422876, 26039710, 30130641, 24835412, 25240938, 18248138, 23946406, 27329686, 11992654, 11535298, 21923972, 25694364, 27747819, 32184749, 26808092, 30443208, 21477909, 16080776, 30316743, 23685776, 24708500, 28123948, 16374630, 21048475, 16802895, 26325076, 27467393, 17786780, 27018649, 11642347, 27501356, 25199454, 25938614, 28045302, 24708349, 22409260, 26976146, 23122740, 9923476, 29129727, 29385142, 27167866, 28101745, 23162516, 22867510, 21284912, 22348246, 26924992, 23940552, 16859896, 31014213, 25206466, 24117940, 25356830, 28247068, 21278907, 31103905, 23731432, 15844763, 30763360, 27626675, 23058162, 20161513, 25353635, 28395276, 25286068, 26741464, 30823405, 24179819, 27211913, 31003522, 30172005, 24725924, 30314383, 26321993, 28264981, 27993224, 19041963, 31024278, 26418049, 1202547, 29754412, 21547760, 28699182, 26052277, 23639305, 26765748, 24324679, 18493307, 11478734, 24283491, 23076736, 29378283, 17100537, 13216196, 9686463, 26010107, 21516510, 27454009, 2021681, 27349835, 24913142, 29038664, 25470389, 26911621, 24131878, 26233730, 25330072, 30932860, 28256532, 28641597, 25064303, 23171616, 22229459, 26589451, 31187051, 30406413, 19428396, 29098017, 26783026, 22464935, 15212574, 25534425, 29740312, 23049516, 18778742, 1639672, 24753225, 18266526, 22203795, 29201247, 21538723, 22822175, 20950283, 27362792, 21401595, 24904500, 26579017, 24575077, 15359024, 26889402, 25773627, 23480071, 7248403, 12150239, 30886590, 25072656, 20961470, 20727904, 30959956, 3783429, 18781433, 25816069, 20027622, 26195295, 21038946, 2285516, 21714738, 27014136, 9479745, 22182335, 25196782, 11180146, 10868981, 25992711, 8163629, 28740242, 10740934, 27481553, 27586072, 27086086, 23381784, 25244477, 30094516, 26372005, 20364879, 23463380, 23292161, 22401975, 17370044, 11325135, 21520342, 25168709, 31898269, 24324434, 25583613, 30298462, 22017557, 27693281, 21824029, 28467371, 25261612, 16026219, 23170240, 26281850, 28072659, 22712473, 25754503, 28191365, 9766167, 29163276, 26317976, 22658646, 21809423, 32200195, 26898716, 25269861, 20868459, 21441359, 29544637, 15910158, 19702396, 16684254, 21243706, 28375210, 30732832, 19071164, 30013927, 29063522, 17032092, 16721843, 26205176, 20554159, 27138794, 19464141, 30605874, 31887358, 26980207, 20486012, 24561099, 24468022, 26834606, 27003216, 7833955, 29280306, 10744851, 25206955, 26167256, 24796655, 21121995, 27293385, 21131120, 26807500, 18005938, 15272965, 2182826, 18589503, 17995484, 22835265, 15854790, 26304229, 21595837, 25743371, 22832909, 18473338, 28294351, 31045422, 16150006, 23440229, 19665102, 20633268, 28651745, 28612080, 30306886, 24808870, 24421777, 25054800, 20370666, 22471847, 29018380, 23078141, 8087401, 27807918, 28666891, 24237485, 27139595, 25758363, 25017647, 19962113, 15755218, 8676181, 29128522, 30941010, 17951592, 9719038, 28398085, 17958713, 28397635, 22822418, 28380722, 24268374, 28042897, 27685764, 27557454, 17570684, 24894766, 16855099, 17089419, 26685089, 18173298, 17711366, 18722589, 25219892, 29718937, 24797330, 29154365, 23095038, 14528661, 7436693, 23469841, 26673928, 11244388, 29698697, 20199204, 26052362, 22641143, 28933874, 25429220, 18317919, 16125513, 20544462, 27607439, 19467648, 28715343, 26612272, 18988297, 26865767, 23593990, 6830468, 28072415, 18479383, 27591789, 26772802, 16165399, 26675294, 24287436, 23386738, 29621947, 24888525, 18266521, 16361941, 23973556, 14561119, 28831105, 32298625, 28663770, 1787140, 30664457, 28982138, 9681255, 21658533, 25440305, 22127795, 19803590, 25924095, 25869157, 25284916, 23039333, 29850839, 24467850, 19026405, 25161616, 22675438, 27233290, 19622800, 28181500, 9821068, 21949599, 24373886, 10509835, 24273715, 32660094, 14766644, 29244642, 21820809, 7714504, 29030568, 25702532, 23798966, 24916272, 23179342, 27383241, 31991875, 23988365, 21397249, 23504303, 10030445, 23527500, 26168201, 25468625, 26165932, 26096223, 24198084, 23311413, 25807203, 31130452, 25012606, 26084816, 31082991, 26293678, 29304348, 19269127, 10066002, 20053536, 22370068, 29505311, 27283029, 18665711, 24470539, 29162187, 17181999, 11712080, 16761555, 25150544, 24870845, 26773907, 18340523, 11220441, 21454033, 31156513, 24393091, 24534713, 10626372, 27787877, 18058430, 27848992, 14717627, 31328014, 32759130, 11578664, 22060063, 28286099, 23623573, 27595594, 25432102, 24836375, 25874558, 21541863, 12004957, 26441778, 30004461, 15567973, 11534744, 23419898, 23060019, 28989551, 26876723, 31054766, 25787295, 24236271, 27543133, 9700013, 24418309, 17521810, 23685023, 23738569, 26257476, 24391571, 22038291, 12764217, 15482446, 24055416, 29407258, 27732002, 27306061, 28789561, 8848973, 17556011, 25263069, 22264442, 29764217, 32834635, 18361674, 19653767, 23911594, 17224054, 12787163, 12821203, 21069608, 20173296, 23229388, 20853441, 24662774, 10206568, 23810863, 22893839, 29279863, 33692724, 22113412, 31447652, 24356497, 10341371, 9165641, 12397873, 27282378, 11380710, 15763124, 26844480, 20610867, 28928638, 21966067, 25136481, 27836461, 20960593, 1604372, 32426559, 23730828, 15762394, 7888747, 26003574, 14622049, 28878693, 14979218, 17074446, 21819448, 28845848, 17983301, 23164063, 19484599, 12144035, 19723795, 24528401, 29589972, 25820768, 30834305, 28625125, 32972479, 24359036, 24223467, 33007683, 23586934, 8010153, 909041, 26060713, 22956990, 23039330, 24723846, 31032678, 22724640, 17974742, 26273187, 12887631, 3177074, 11790407, 26834578, 26820425, 26219310, 22112362, 21570932, 33136144, 33071842, 28963067, 21097989, 17294285, 22397529, 30045480, 21567663, 25217338, 21922004, 31747608, 29533084, 23926250, 17040571, 19121548, 21418720, 28797822, 30147776, 27026752, 24659156, 21525809, 10532627, 12749012, 27303318, 9561515, 22594387, 29740637, 24465595, 23102568, 30642965, 28400853, 26205268, 25309940, 24383459, 18551464, 1740747, 26055859, 28207508, 18052814, 21767615, 12707482, 17563167, 12919270, 22352293, 24493581, 29480886, 15285971, 18307134, 18607990, 16597776, 11927758, 16887097, 27035357, 22021604, 18211731, 21166992, 33543486, 21614939, 29130869, 26812664, 11490034, 29221855, 27303329, 16574637, 12614689, 11708416, 27135046, 28238895, 27590603, 26472525, 25065327, 23194821, 27057362, 18080322, 21466739, 27207840, 21860244, 31120397, 27054346, 21813040, 23832708, 19030978, 21368043, 23616973, 20957727, 29298714, 26482421, 5260290, 16029879, 25681369, 19745200, 30774486, 29580673, 25083160, 24961267, 21145596, 25424551, 2448285, 32613947, 20853971, 24231532, 24530432, 11844857, 21312064, 18922180, 15541778, 25972139, 21501912, 20204926, 17450448, 12876109, 27733299, 32320931, 31138306, 30306516, 26970859, 26178315, 25318648, 22789161, 18257914, 17429333, 16616398, 15672983, 6365298, 29468985, 29957106, 8494697, 23988395, 17436074, 29407522, 26519439, 25262916, 25079501, 24579980, 23781403, 20430327, 19579903, 18367021, 18313675, 14555297, 12505210, 11851793, 9530542, 8039368, 3417465, 6393001, 6214627, 15842024, 27131386, 24673756, 15296546, 3370409, 22012847, 31575569, 17170244, 27082597, 15611220, 19277898, 19030874, 19521064, 23732884, 7984168, 21392417, 17620404, 16393025, 19619974, 12382205]\n",
      "Min_paper ID: 28402574 PageRank: 0.000003\n",
      "Max_paper ID: 12382205 PageRank: 0.000038\n",
      "------------------------------------\n"
     ]
    }
   ],
   "source": [
    "pageranks = nx.pagerank(G)\n",
    "result10 = []\n",
    "for cites in papers_citing.keys():\n",
    "    if len(papers_citing[cites]) == 10:\n",
    "        result10.append(cites)\n",
    "\n",
    "result10.sort(key=lambda i: pageranks[i])\n",
    "\n",
    "print(result10)\n",
    "\n",
    "min_paper = result10[0]\n",
    "print(\"Min_paper ID:\", min_paper, \"PageRank:\", '{:.6f}'.format(pageranks[min_paper]))\n",
    "\n",
    "max_paper = result10[-1]\n",
    "print(\"Max_paper ID:\", max_paper, \"PageRank:\", '{:.6f}'.format(pageranks[max_paper]))\n",
    "print(\"------------------------------------\")\n"
   ]
  },
  {
   "cell_type": "markdown",
   "metadata": {},
   "source": [
    "### Task 3\n",
    "\n",
    "Why do the two papers above have such different PageRank values? Write code below to investigate and show the cause of this, and then explain the cause of this difference based on the results generated by your code."
   ]
  },
  {
   "cell_type": "code",
   "execution_count": 29,
   "metadata": {
    "tags": []
   },
   "outputs": [
    {
     "name": "stdout",
     "output_type": "stream",
     "text": [
      "Cited_by[min_paper]: 51\n",
      "Cited_by[max_paper]: 0\n",
      "Papers_citing[min_paper]: 10\n",
      "Papers_citing[max_paper]: 10\n"
     ]
    }
   ],
   "source": [
    "print(\"Cited_by[min_paper]:\", len(cited_by[min_paper]))\n",
    "print(\"Cited_by[max_paper]:\", len(cited_by[max_paper]))\n",
    "print(\"Papers_citing[min_paper]:\", len(papers_citing[min_paper]))\n",
    "print(\"Papers_citing[max_paper]:\", len(papers_citing[max_paper]))"
   ]
  },
  {
   "cell_type": "markdown",
   "metadata": {},
   "source": [
    "**Answer:** After the results above we can see that the primary difference in PageRank values between the two papers arises from the number of outgoing citations made by each paper. PageRank distributes a paper's \"importance\" score among the documents it cites. Having said that, a paper with a large number of outgoing citations spreads its importance more thinly, reducing its own overall score. In this case, \"min_paper\" cites 51 documents, which significantly dilutes its importance in the network, leading to a lower PageRank score. On the other hand, \"max_paper\" does not cite any other papers, meaning it retains its full initial importance value, resulting in a higher PageRank score.\n"
   ]
  },
  {
   "cell_type": "markdown",
   "metadata": {},
   "source": [
    "### Task 4\n",
    "\n",
    "Copy the scoring function `score_ntn_nnn` from Task 4 of assignment 3. Rename it to `score_ntn_nnn_pagerank` and change its code to incorporate a paper's PageRank score in it's final score, in addition to tf-idf. In other words, the new function should accept a `list` of query tokens and a document ID, and should return a single `float` value that is calculated based on both scores (PageRank and tf-idf). Note that a `tf-idf` function is already provided above. Explain your decision on how to combine the two scores."
   ]
  },
  {
   "cell_type": "code",
   "execution_count": 39,
   "metadata": {
    "tags": []
   },
   "outputs": [],
   "source": [
    "def score_ntn_nnn_pagerank(tokens, doc):\n",
    "    total_TFIDF = 0\n",
    "    for word in tokens:\n",
    "        total_TFIDF = total_TFIDF + tfidf(word, doc)\n",
    "    return total_TFIDF * pageranks[doc]\n"
   ]
  },
  {
   "cell_type": "markdown",
   "metadata": {},
   "source": [
    "**Answer:**\n",
    "I chose to use the product of TF-IDF and PageRank as it effectively emphasises documents that are both highly relevant(high tfidf) and important(high pagerank). This approach ensures that only those excelling in both metrics achieve higher ranks while pulling back on those who perform well only on one category. Its simplicity and ability to prioritise quality results make it a robust and efficient method for ranking documents.\n"
   ]
  },
  {
   "cell_type": "markdown",
   "metadata": {},
   "source": [
    "### Task 5\n",
    "\n",
    "Copy the query function `query_ntn_nnn` from Task 4 of assignment 3 (also copy `or_merge`). Rename it to `query_ntn_nnn_pagerank` and change the code to use our new scoring function `score_ntn_nnn_pagerank` from task 4 above. Demonstrate these functions with an example query that returns paper 11244481 as the top result."
   ]
  },
  {
   "cell_type": "code",
   "execution_count": 42,
   "metadata": {
    "tags": []
   },
   "outputs": [
    {
     "name": "stdout",
     "output_type": "stream",
     "text": [
      "['amygdala', 'vigilance', 'emotion']\n",
      "Result: [(0.0076155763311954025, 11244481), (0.005355833077366249, 16242399), (0.005351404775436325, 10377356), (0.005281157887534014, 10845062), (0.005002321798815797, 12505650), (0.004774864530052953, 16624961), (0.003663684688128032, 8893004), (0.003041770508245396, 15488398), (0.002498987875228649, 15850746), (0.0024260759006041518, 7990957)]\n"
     ]
    },
    {
     "data": {
      "text/html": [
       "<strong><a href=http://dx.doi.org/10.1038/sj.mp.4000812>The amygdala: vigilance and emotion.</a></strong><br>2001. Davis M, Whalen PJ<br><small><strong>Abstract:</strong> <em>Here we provide a review of the animal and human literature concerning the role of the amygdala in fear conditioning, considering its potential influence over autonomic and hormonal changes, motor behavior and attentional processes. A stimulus that predicts an aversive outcome will change neural transmission in the amygdala to produce the somatic, autonomic and endocrine signs of fear, as well as increased attention to that stimulus. It is now clear that the amygdala is also involved in learning about positively valenced stimuli as well as spatial and motor learning and this review strives to integrate this additional information. A review of available studies examining the human amygdala covers both lesion and electrical stimulation studies as well as the most recent functional neuroimaging studies. Where appropriate, we attempt to integrate basic information on normal amygdala function with our current understanding of psychiatric disorders, including pathological anxiety.</em></small><br>[ID: 11244481]"
      ],
      "text/plain": [
       "<IPython.core.display.HTML object>"
      ]
     },
     "metadata": {},
     "output_type": "display_data"
    }
   ],
   "source": [
    "def exhaustList(list : list, pos : int, result : list):\n",
    "    while pos < len(list):\n",
    "        result.append(list[pos])\n",
    "        pos = pos + 1\n",
    "    return result\n",
    "\n",
    "list1 = [3,5,8,11]\n",
    "list2 = [5,7,8,9,11,12]\n",
    "def merge_sorted_or(l1 : list, l2 : list):\n",
    "    positionl1 : int = 0\n",
    "    positionl2 : int = 0\n",
    "    currValueL1 : int = list1[positionl1]\n",
    "    currValueL2 : int = list2[positionl2]\n",
    "    resultList : list = []\n",
    "\n",
    "    while (positionl1 < len(l1) and positionl2 < len(l2)):\n",
    "        currValueL1 = l1[positionl1]\n",
    "        currValueL2 = l2[positionl2]\n",
    "        if currValueL1 < currValueL2:\n",
    "            resultList.append(l1[positionl1])\n",
    "            positionl1 = positionl1 + 1\n",
    "        elif currValueL1 > currValueL2:\n",
    "            resultList.append(l2[positionl2])\n",
    "            positionl2 = positionl2 + 1\n",
    "        else: \n",
    "            resultList.append(l1[positionl1])\n",
    "            positionl1 = positionl1 + 1\n",
    "            positionl2 = positionl2 + 1\n",
    "        \n",
    "    if positionl1 >= len(l1):\n",
    "        resultList = exhaustList(l2, positionl2, resultList)\n",
    "    elif positionl2 >= len(l2):\n",
    "        resultList = exhaustList(l1, positionl1, resultList)\n",
    "\n",
    "    return resultList\n",
    "\n",
    "def or_query(quary : str):\n",
    "   matchingDocList = []\n",
    "   wordList = preprocess(tokenize(quary))\n",
    "   print(wordList)\n",
    "   for word in wordList:\n",
    "      matchingDocList.append(inverted_index[word])\n",
    "      #print(word, \": \", inverted_index[word])\n",
    "\n",
    "   result = matchingDocList[0]\n",
    "   \n",
    "   if len(matchingDocList) <= 1 and len(matchingDocList) >= 0:\n",
    "      return result\n",
    "   elif len(matchingDocList) > 1:\n",
    "      for list in matchingDocList:\n",
    "            result = merge_sorted_or(result, list)\n",
    "      return result\n",
    "\n",
    "def query_ntn_nnn(query_string):\n",
    "    listOfDoc = or_query(query_string)\n",
    "    tokens = list(preprocess(tokenize(query_string)))\n",
    "    scores = []\n",
    "    for doc in listOfDoc:\n",
    "       scores.append((score_ntn_nnn_pagerank(tokens, doc), doc))\n",
    "    top10_scores = sorted(scores, reverse = True)[:10]\n",
    "    return top10_scores\n",
    "\n",
    "def score_ntn_nnn_pagerank(tokens, doc):\n",
    "    total_TFIDF = 0\n",
    "    for word in tokens:\n",
    "        total_TFIDF = total_TFIDF + tfidf(word, doc)\n",
    "    return total_TFIDF * pageranks[doc]\n",
    "\n",
    "\n",
    "result = query_ntn_nnn(\"amygdala vigilance emotion\")\n",
    "print('Result:', result)\n",
    "display_summary(11244481, show_abstract = True)"
   ]
  },
  {
   "cell_type": "markdown",
   "metadata": {},
   "source": [
    "# Submission"
   ]
  },
  {
   "cell_type": "markdown",
   "metadata": {},
   "source": [
    "Submit the answers to the assignment via Canvas as a modified version of this Notebook file (file with `.ipynb` extension) that includes your code and your answers.\n",
    "\n",
    "Before submitting, restart the kernel and re-run the complete code (**Kernel > Restart & Run All**), and then check whether your assignment code still works as expected.\n",
    "\n",
    "Don't forget to add your name, and remember that the assignments have to be done **individually**, and that code sharing or copying are **strictly forbidden** and will be punished."
   ]
  },
  {
   "cell_type": "code",
   "execution_count": null,
   "metadata": {},
   "outputs": [],
   "source": []
  }
 ],
 "metadata": {
  "kernelspec": {
   "display_name": "base",
   "language": "python",
   "name": "python3"
  },
  "language_info": {
   "codemirror_mode": {
    "name": "ipython",
    "version": 3
   },
   "file_extension": ".py",
   "mimetype": "text/x-python",
   "name": "python",
   "nbconvert_exporter": "python",
   "pygments_lexer": "ipython3",
   "version": "3.12.7"
  }
 },
 "nbformat": 4,
 "nbformat_minor": 4
}

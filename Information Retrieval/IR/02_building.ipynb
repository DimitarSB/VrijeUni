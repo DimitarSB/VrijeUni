{
 "cells": [
  {
   "cell_type": "markdown",
   "metadata": {
    "id": "vzdJq4oPZ_30"
   },
   "source": [
    "# Assignment 2: Building a Simple Index"
   ]
  },
  {
   "cell_type": "markdown",
   "metadata": {
    "id": "9ev2AJMIZ_31"
   },
   "source": [
    "In this assignment, we will build a simple search index, which we will use later for Boolean retrieval. The assignment tasks are again at the bottom of this document."
   ]
  },
  {
   "cell_type": "markdown",
   "metadata": {
    "id": "Edoy7Nw0Z_32"
   },
   "source": [
    "## Loading the Data"
   ]
  },
  {
   "cell_type": "code",
   "execution_count": 1,
   "metadata": {
    "id": "RuJ-9QOXZ_32",
    "tags": []
   },
   "outputs": [],
   "source": [
    "Summaries_file = 'data/recognition_Summaries.pkl.bz2'\n",
    "Abstracts_file = 'data/recognition_Abstracts.pkl.bz2'"
   ]
  },
  {
   "cell_type": "code",
   "execution_count": 2,
   "metadata": {
    "colab": {
     "base_uri": "https://localhost:8080/",
     "height": 367
    },
    "executionInfo": {
     "elapsed": 9,
     "status": "error",
     "timestamp": 1699642890261,
     "user": {
      "displayName": "Y Wang",
      "userId": "04653720980646316291"
     },
     "user_tz": -60
    },
    "id": "Jy_tFQkeZ_32",
    "outputId": "a8e4bdb9-0464-423b-c2a1-d5ecf76547c2",
    "tags": []
   },
   "outputs": [],
   "source": [
    "\n",
    "import pickle, bz2\n",
    "from collections import namedtuple\n",
    "\n",
    "Summaries = pickle.load( bz2.BZ2File( Summaries_file, 'rb' ) )\n",
    "\n",
    "paper = namedtuple( 'paper', ['title', 'authors', 'year', 'doi'] )\n",
    "\n",
    "for (id, paper_info) in Summaries.items():\n",
    "    Summaries[id] = paper( *paper_info )\n",
    "\n",
    "Abstracts = pickle.load( bz2.BZ2File( Abstracts_file, 'rb' ) )"
   ]
  },
  {
   "cell_type": "markdown",
   "metadata": {
    "id": "FqOk2FtCZ_33"
   },
   "source": [
    "Let's have a look at what the data looks like for an example of a paper:"
   ]
  },
  {
   "cell_type": "code",
   "execution_count": 3,
   "metadata": {
    "id": "cHKKXP1iZ_33",
    "tags": []
   },
   "outputs": [
    {
     "data": {
      "text/plain": [
       "paper(title='Surveying the seen: 100 years of British vision.', authors=['Wade NJ', 'Bruce V'], year=2001, doi='')"
      ]
     },
     "execution_count": 3,
     "metadata": {},
     "output_type": "execute_result"
    }
   ],
   "source": [
    "Summaries[11802866]"
   ]
  },
  {
   "cell_type": "code",
   "execution_count": 4,
   "metadata": {
    "id": "ipoZty81Z_33",
    "tags": []
   },
   "outputs": [
    {
     "data": {
      "text/plain": [
       "\"Perceptual phenomena and their interpretations have fashioned the course of psychology. This article surveys how theories of visual perception and methodologies have developed during the lifetime of the British Psychological Society. The experimental study of vision was instigated by British natural philosophers in the early nineteenth century but this impetus was not maintained thereafter. Not until the 1930s and 1940s did research on perception resume in earnest within British universities. The adoption of concepts (such as schema) potentially grounded in neural organization, particularly by Bartlett and Craik, accelerated experimental, theoretical and applied vision research. From mid-century the influence of information processing models of perception became increasingly dominant, and they were often integrated with the rapidly expanding understanding of neurophysiological underpinnings. The epitome of these developments was Marr's model of vision which, in our view, marked the start of the modern era of vision research. Computers have transformed the nature of stimulus control and response measurement in perceptual experiments. More naturalistic stimuli can be presented and manipulated, and complex behavioural responses, such as patterns of eye movements, fractionated. Non-invasive recording of brain activity to visual stimulation has similarly been transformed with a variety of methods for imaging brain activity. Neuroimaging has been applied to localizing perceptual and cognitive functions and in studying patients with known deficits in visual recognition. However, the eagerness with which the computer has been adopted by perceptual psychologists is likely to be tempered by a growing awareness of the differences between viewing scenes and simulations of them.\""
      ]
     },
     "execution_count": 4,
     "metadata": {},
     "output_type": "execute_result"
    }
   ],
   "source": [
    "Abstracts[11802866]"
   ]
  },
  {
   "cell_type": "markdown",
   "metadata": {
    "id": "WMPtThheZ_34"
   },
   "source": [
    "## Some Utility Functions"
   ]
  },
  {
   "cell_type": "markdown",
   "metadata": {
    "id": "0r88Pg3SZ_34"
   },
   "source": [
    "We'll define some utility functions that allow us to tokenize a string into terms, perform linguistic preprocessing on a list of terms, as well as a function to display information about a paper in a nice way. Note that these tokenization and preprocessing functions are rather naive. We will improve them in a later assignment."
   ]
  },
  {
   "cell_type": "code",
   "execution_count": 5,
   "metadata": {
    "id": "2MuvRQqoZ_34",
    "tags": []
   },
   "outputs": [
    {
     "name": "stdout",
     "output_type": "stream",
     "text": [
      "['recognition', 'of', 'the', 'positive', 'effects', 'of', 'music', 'and', 'dance', 'for', 'mental', 'health.']\n"
     ]
    }
   ],
   "source": [
    "def tokenize(text):\n",
    "    \"\"\"\n",
    "    Function that tokenizes a string in a rather naive way. Can be extended later.\n",
    "    \"\"\"\n",
    "    return text.split(' ')\n",
    "\n",
    "def preprocess(tokens):\n",
    "    \"\"\"\n",
    "    Perform linguistic preprocessing on the list of tokens. Can be extended later.\n",
    "    \"\"\"\n",
    "    result = []\n",
    "    for token in tokens:\n",
    "        result.append(token.lower())\n",
    "    return result\n",
    "\n",
    "print(preprocess(tokenize(\"Recognition of the poSitive effects of music and dance for mental health.\")))\n",
    "\n",
    "\n",
    "\n"
   ]
  },
  {
   "cell_type": "code",
   "execution_count": 6,
   "metadata": {
    "id": "ka9YSL4DZ_34",
    "tags": []
   },
   "outputs": [
    {
     "data": {
      "text/html": [
       "<strong><a href=http://dx.doi.org/10.3390/biomedicines10112853>Cell-Free DNA in the Pathogenesis and Therapy of Non-Infectious Inflammations and Tumors.</a></strong><br>2022. Műzes G, Bohusné Barta B, Szabó O, Horgas V, Sipos F<br><small><strong>Abstract:</strong> <em>The basic function of the immune system is the protection of the host against infections, along with the preservation of the individual antigenic identity. The process of self-tolerance covers the discrimination between self and foreign antigens, including proteins, nucleic acids, and larger molecules. Consequently, a broken immunological self-tolerance results in the development of autoimmune or autoinflammatory disorders. Immunocompetent cells express pattern-recognition receptors on their cell membrane and cytoplasm. The majority of endogenous DNA is located intracellularly within nuclei and mitochondria. However, extracellular, cell-free DNA (cfDNA) can also be detected in a variety of diseases, such as autoimmune disorders and malignancies, which has sparked interest in using cfDNA as a possible biomarker. In recent years, the widespread use of liquid biopsies and the increasing demand for screening, as well as monitoring disease activity and therapy response, have enabled the revival of cfDNA research. The majority of studies have mainly focused on the function of cfDNA as a biomarker. However, research regarding the immunological consequences of cfDNA, such as its potential immunomodulatory or therapeutic benefits, is still in its infancy. This article discusses the involvement of various DNA-sensing receptors (e.g., absent in melanoma-2; Toll-like receptor 9; cyclic GMP-AMP synthase/activator of interferon genes) in identifying host cfDNA as a potent danger-associated molecular pattern. Furthermore, we aim to summarize the results of the experimental studies that we recently performed and highlight the immunomodulatory capacity of cfDNA, and thus, the potential for possible therapeutic consideration.</em></small><br>[ID: 36359370]"
      ],
      "text/plain": [
       "<IPython.core.display.HTML object>"
      ]
     },
     "metadata": {},
     "output_type": "display_data"
    }
   ],
   "source": [
    "from IPython.display import display, HTML\n",
    "import re\n",
    "\n",
    "def display_summary( id, show_abstract=False, show_id=True, extra_text='' ):\n",
    "    \"\"\"\n",
    "    Function for printing a paper's summary through IPython's Rich Display System.\n",
    "    Trims long author lists, and adds a link to the paper's DOI (when available).\n",
    "    \"\"\"\n",
    "    s = Summaries[id]\n",
    "    lines = []\n",
    "    title = s.title\n",
    "    if s.doi != '':\n",
    "        title = '<a href=http://dx.doi.org/{:s}>{:s}</a>'.format(s.doi, title)\n",
    "    title = '<strong>' + title + '</strong>'\n",
    "    lines.append(title)\n",
    "    authors = ', '.join( s.authors[:20] ) + ('' if len(s.authors) <= 20 else ', ...')\n",
    "    lines.append(str(s.year) + '. ' + authors)\n",
    "    if (show_abstract):\n",
    "        lines.append('<small><strong>Abstract:</strong> <em>{:s}</em></small>'.format(Abstracts[id]))\n",
    "    if (show_id):\n",
    "        lines.append('[ID: {:d}]'.format(id))\n",
    "    if (extra_text != ''):\n",
    "         lines.append(extra_text)\n",
    "    display( HTML('<br>'.join(lines)) )\n",
    "\n",
    "display_summary(36359370, show_abstract=True)"
   ]
  },
  {
   "cell_type": "markdown",
   "metadata": {
    "id": "xAgeWYIqZ_35"
   },
   "source": [
    "## Creating our first index"
   ]
  },
  {
   "cell_type": "markdown",
   "metadata": {
    "id": "L9rXngQsZ_35"
   },
   "source": [
    "We will now create an _inverted index_ based on the words in the titles and abstracts of the papers in our dataset. We will implement our inverted index as a Python dictionary with term strings as keys and posting lists (implemented as Python lists) as values. We include all the tokens we can find in the title and (if available) in the abstract:"
   ]
  },
  {
   "cell_type": "code",
   "execution_count": 7,
   "metadata": {
    "id": "MRyxPdLWZ_35",
    "tags": []
   },
   "outputs": [],
   "source": [
    "from collections import defaultdict\n",
    "\n",
    "inverted_index = defaultdict(list)\n",
    "\n",
    "# This can take a minute:\n",
    "for id in sorted(Summaries.keys()):\n",
    "    term_set = set(preprocess(tokenize(Summaries[id].title)))\n",
    "    if id in Abstracts:\n",
    "        term_set.update(preprocess(tokenize(Abstracts[id])))\n",
    "    for term in term_set:\n",
    "        inverted_index[term].append(id)"
   ]
  },
  {
   "cell_type": "markdown",
   "metadata": {
    "id": "K5Mval9kZ_35"
   },
   "source": [
    "Let's see what's in the index for the example term 'guitar':"
   ]
  },
  {
   "cell_type": "code",
   "execution_count": 8,
   "metadata": {
    "id": "yM6FiOtFZ_35",
    "tags": []
   },
   "outputs": [
    {
     "name": "stdout",
     "output_type": "stream",
     "text": [
      "[2343768, 17258164, 20919784, 21983182, 28479473, 32574363, 33114599, 35957448, 37707802, 38076476]\n"
     ]
    }
   ],
   "source": [
    "print(inverted_index['guitar'])\n",
    "#print(len(inverted_index['happy']))"
   ]
  },
  {
   "cell_type": "markdown",
   "metadata": {
    "id": "QBbUIJXEZ_36"
   },
   "source": [
    "We can now use this inverted index to answer simple one-word queries, for example to show all papers that contain the word 'guitar':"
   ]
  },
  {
   "cell_type": "code",
   "execution_count": 9,
   "metadata": {
    "id": "e7l3RXcLZ_36",
    "tags": []
   },
   "outputs": [
    {
     "data": {
      "text/html": [
       "<strong><a href=http://dx.doi.org/10.1016/0001-6918(90)90074-p>Components of Stroop-like interference in word reading.</a></strong><br>1990. La Heij W, Happel B, Mulder M<br><small><strong>Abstract:</strong> <em>Previous research has shown that the naming of the picture of, for example, a guitar is substantially delayed when it is accompanied by the name of an object from the same semantic category (e.g., piano) as compared to a nonword control (e.g., xxxxx). La Heij (1988a) has shown that a large part of this Stroop-like interference effect can be attributed to two semantic characteristics of the distractor word: its semantic similarity to the target picture and its semantic relevance in the task at hand. Furthermore, it was argued that the locus of these two interference effects is the process of target-name retrieval. If this is true, semantic interference effects should diminish or disappear when, instead of a picture-naming task, a word-reading task is used. In the present study this prediction is tested. The effects of four distractor characteristics are examined: semantic relatedness, semantic relevance, response set membership and wordness. In contrast to the original picture-naming task only the effect of wordness reached significance. The results of experiments 2 and 3 show that the absence of significant semantic context effects in experiment 1 is not simply due to the fact that a distractor word has less time to affect a word-reading response. The results are taken to support a name-retrieval account of semantic interference in color and picture naming.</em></small><br>[ID: 2343768]"
      ],
      "text/plain": [
       "<IPython.core.display.HTML object>"
      ]
     },
     "metadata": {},
     "output_type": "display_data"
    },
    {
     "data": {
      "text/html": [
       "<strong><a href=http://dx.doi.org/10.1016/j.actpsy.2006.12.002>Evaluating the influence of the 'unity assumption' on the temporal perception of realistic audiovisual stimuli.</a></strong><br>2008. Vatakis A, Spence C<br><small><strong>Abstract:</strong> <em>Vatakis, A. and Spence, C. (in press) [Crossmodal binding: Evaluating the 'unity assumption' using audiovisual speech stimuli. Perception &Psychophysics] recently demonstrated that when two briefly presented speech signals (one auditory and the other visual) refer to the same audiovisual speech event, people find it harder to judge their temporal order than when they refer to different speech events. Vatakis and Spence argued that the 'unity assumption' facilitated crossmodal binding on the former (matching) trials by means of a process of temporal ventriloquism. In the present study, we investigated whether the 'unity assumption' would also affect the binding of non-speech stimuli (video clips of object action or musical notes). The auditory and visual stimuli were presented at a range of stimulus onset asynchronies (SOAs) using the method of constant stimuli. Participants made unspeeded temporal order judgments (TOJs) regarding which modality stream had been presented first. The auditory and visual musical and object action stimuli were either matched (e.g., the sight of a note being played on a piano together with the corresponding sound) or else mismatched (e.g., the sight of a note being played on a piano together with the sound of a guitar string being plucked). However, in contrast to the results of Vatakis and Spence's recent speech study, no significant difference in the accuracy of temporal discrimination performance for the matched versus mismatched video clips was observed. Reasons for this discrepancy are discussed.</em></small><br>[ID: 17258164]"
      ],
      "text/plain": [
       "<IPython.core.display.HTML object>"
      ]
     },
     "metadata": {},
     "output_type": "display_data"
    },
    {
     "data": {
      "text/html": [
       "<strong><a href=http://dx.doi.org/10.1037/a0020934>Effects of iconicity and semantic relatedness on lexical access in american sign language.</a></strong><br>2010. Bosworth RG, Emmorey K<br><small><strong>Abstract:</strong> <em>Iconicity is a property that pervades the lexicon of many sign languages, including American Sign Language (ASL). Iconic signs exhibit a motivated, nonarbitrary mapping between the form of the sign and its meaning. We investigated whether iconicity enhances semantic priming effects for ASL and whether iconic signs are recognized more quickly than noniconic signs are (controlling for strength of iconicity, semantic relatedness, familiarity, and imageability). Twenty deaf signers made lexical decisions to the 2nd item of a prime-target pair. Iconic target signs were preceded by prime signs that were (a) iconic and semantically related, (b) noniconic and semantically related, or (c) semantically unrelated. In addition, a set of noniconic target signs was preceded by semantically unrelated primes. Significant facilitation was observed for target signs when they were preceded by semantically related primes. However, iconicity did not increase the priming effect (e.g., the target sign PIANO was primed equally by the iconic sign GUITAR and the noniconic sign MUSIC). In addition, iconic signs were not recognized faster or more accurately than were noniconic signs. These results confirm the existence of semantic priming for sign language and suggest that iconicity does not play a robust role in online lexical processing.</em></small><br>[ID: 20919784]"
      ],
      "text/plain": [
       "<IPython.core.display.HTML object>"
      ]
     },
     "metadata": {},
     "output_type": "display_data"
    },
    {
     "data": {
      "text/html": [
       "<strong><a href=http://dx.doi.org/10.1016/j.neuroimage.2011.09.021>Imitation and observational learning of hand actions: prefrontal involvement and connectivity.</a></strong><br>2012. Higuchi S, Holle H, Roberts N, Eickhoff SB, Vogt S<br><small><strong>Abstract:</strong> <em>The first aim of this event-related fMRI study was to identify the neural circuits involved in imitation learning. We used a rapid imitation task where participants directly imitated pictures of guitar chords. The results provide clear evidence for the involvement of dorsolateral prefrontal cortex, as well as the fronto-parietal mirror circuit (FPMC) during action imitation when the requirements for working memory are low. Connectivity analyses further indicated a robust connectivity between left prefrontal cortex and the components of the FPMC bilaterally. We conclude that a mechanism of automatic perception-action matching alone is insufficient to account for imitation learning. Rather, the motor representation of an observed, complex action, as provided by the FPMC, only serves as the 'raw material' for higher-order supervisory and monitoring operations associated with the prefrontal cortex. The second aim of this study was to assess whether these neural circuits are also recruited during observational practice (OP, without motor execution), or only during physical practice (PP). Whereas prefrontal cortex was not consistently activated in action observation across all participants, prefrontal activation intensities did predict the behavioural practice effects, thus indicating a crucial role of prefrontal cortex also in OP. In addition, whilst OP and PP produced similar activation intensities in the FPMC when assessed during action observation, during imitative execution, the practice-related activation decreases were significantly more pronounced for PP than for OP. This dissociation indicates a lack of execution-related resources in observationally practised actions. More specifically, we found neural efficiency effects in the right motor cingulate-basal ganglia circuit and the FPMC that were only observed after PP but not after OP. Finally, we confirmed that practice generally induced activation decreases in the FPMC during both action observation and imitation sessions and outline a framework explaining the discrepant findings in the literature.</em></small><br>[ID: 21983182]"
      ],
      "text/plain": [
       "<IPython.core.display.HTML object>"
      ]
     },
     "metadata": {},
     "output_type": "display_data"
    },
    {
     "data": {
      "text/html": [
       "<strong><a href=http://dx.doi.org/10.1016/j.neuroimage.2017.04.060>Using guitar learning to probe the Action Observation Network's response to visuomotor familiarity.</a></strong><br>2017. Gardner T, Aglinskas A, Cross ES<br><small><strong>Abstract:</strong> <em>Watching other people move elicits engagement of a collection of sensorimotor brain regions collectively termed the Action Observation Network (AON). An extensive literature documents more robust AON responses when observing or executing familiar compared to unfamiliar actions, as well as a positive correlation between amplitude of AON response and an observer's familiarity with an observed or executed movement. On the other hand, emerging evidence shows patterns of AON activity counter to these findings, whereby in some circumstances, unfamiliar actions lead to greater AON engagement than familiar actions. In an attempt to reconcile these conflicting findings, some have proposed that the relationship between AON response amplitude and action familiarity is nonlinear in nature. In the present study, we used an elaborate guitar training intervention to probe the relationship between movement familiarity and AON engagement during action execution and action observation tasks. Participants underwent fMRI scanning while executing one set of guitar sequences with a scanner-compatible bass guitar and observing a second set of sequences. Participants then acquired further physical practice or observational experience with half of these stimuli outside the scanner across 3 days. Participants then returned for an identical scanning session, wherein they executed and observed equal numbers of familiar (trained) and unfamiliar (untrained) guitar sequences. Via region of interest analyses, we extracted activity within AON regions engaged during both scanning sessions, and then fit linear, quadratic and cubic regression models to these data. The data best support the cubic regression models, suggesting that the response profile within key sensorimotor brain regions associated with the AON respond to action familiarity in a nonlinear manner. Moreover, by probing the subjective nature of the prediction error signal, we show results consistent with a predictive coding account of AON engagement during action observation and execution that also takes into account effects of changes in neural efficiency.</em></small><br>[ID: 28479473]"
      ],
      "text/plain": [
       "<IPython.core.display.HTML object>"
      ]
     },
     "metadata": {},
     "output_type": "display_data"
    },
    {
     "data": {
      "text/html": [
       "<strong><a href=http://dx.doi.org/10.1093/jmt/thaa009>Using Contextual and Visual Cues to Improve Sung Word Recognition in Hearing Aid Users.</a></strong><br>2020. Wilhelm LA<br><small><strong>Abstract:</strong> <em>Older adults commonly experience hearing loss that negatively affects the quality of life and creates barriers to effective therapeutic interactions as well as music listening. Music therapists have the potential to address some needs of older adults, but the effectiveness of music interventions is dependent on the perception of spoken and musical stimuli. Nonauditory information, such as contextual (e.g., keywords, picture related to song) and visual cues (e.g., clear view of singer's face), can improve speech perception. The purpose of this study was to examine the benefit of contextual and visual cues on sung word recognition in the presence of guitar accompaniment. The researcher tested 24 community-dwelling older adult hearing aid (HA) users recruited through a university HA clinic and laboratory under 3 study conditions: (a) auditory stimuli only, (b) auditory stimuli with contextual cues, and (c) auditory stimuli with visual cues. Both visual and contextual nonauditory cues benefited participants on sung word recognition. Participants' music background and training were predictive of success without nonauditory cues, and visual cues provided greater benefit than contextual cues. Based on the results of this study, it is recommended that music therapists increase the accessibility of music interventions reliant upon lyric recognition through the incorporation of clear visual and contextual cues.</em></small><br>[ID: 32574363]"
      ],
      "text/plain": [
       "<IPython.core.display.HTML object>"
      ]
     },
     "metadata": {},
     "output_type": "display_data"
    },
    {
     "data": {
      "text/html": [
       "<strong><a href=http://dx.doi.org/10.3390/s20216077>Guitar Chord Sensing and Recognition Using Multi-Task Learning and Physical Data Augmentation with Robotics.</a></strong><br>2020. Byambatsogt G, Choimaa L, Koutaki G<br><small><strong>Abstract:</strong> <em>In recent years, many researchers have shown increasing interest in music information retrieval (MIR) applications, with automatic chord recognition being one of the popular tasks. Many studies have achieved/demonstrated considerable improvement using deep learning based models in automatic chord recognition problems. However, most of the existing models have focused on simple chord recognition, which classifies the root note with the major, minor, and seventh chords. Furthermore, in learning-based recognition, it is critical to collect high-quality and large amounts of training data to achieve the desired performance. In this paper, we present a multi-task learning (MTL) model for a guitar chord recognition task, where the model is trained using a relatively large-vocabulary guitar chord dataset. To solve data scarcity issues, a physical data augmentation method that directly records the chord dataset from a robotic performer is employed. Deep learning based MTL is proposed to improve the performance of automatic chord recognition with the proposed physical data augmentation dataset. The proposed MTL model is compared with four baseline models and its corresponding single-task learning model using two types of datasets, including a human dataset and a human combined with the augmented dataset. The proposed methods outperform the baseline models, and the results show that most scores of the proposed multi-task learning model are better than those of the corresponding single-task learning model. The experimental results demonstrate that physical data augmentation is an effective method for increasing the dataset size for guitar chord recognition tasks.</em></small><br>[ID: 33114599]"
      ],
      "text/plain": [
       "<IPython.core.display.HTML object>"
      ]
     },
     "metadata": {},
     "output_type": "display_data"
    },
    {
     "data": {
      "text/html": [
       "<strong><a href=http://dx.doi.org/10.3390/s22155892>Fuzzy Edge-Detection as a Preprocessing Layer in Deep Neural Networks for Guitar Classification.</a></strong><br>2022. Torres C, Gonzalez CI, Martinez GE<br><small><strong>Abstract:</strong> <em>Deep neural networks have demonstrated the capability of solving classification problems using hierarchical models, and fuzzy image preprocessing has proven to be efficient in handling uncertainty found in images. This paper presents the combination of fuzzy image edge-detection and the usage of a convolutional neural network for a computer vision system to classify guitar types according to their body model. The focus of this investigation is to compare the effects of performing image-preprocessing techniques on raw data (non-normalized images) with different fuzzy edge-detection methods, specifically fuzzy Sobel, fuzzy Prewitt, and fuzzy morphological gradient, before feeding the images into a convolutional neural network to perform a classification task. We propose and compare two convolutional neural network architectures to solve the task. Fuzzy edge-detection techniques are compared against their classical counterparts (Sobel, Prewitt, and morphological gradient edge-detection) and with grayscale and color images in the RGB color space. The fuzzy preprocessing methodologies highlight the most essential features of each image, achieving favorable results when compared to the classical preprocessing methodologies and against a pre-trained model with both proposed models, as well as achieving a reduction in training times of more than 20% compared to RGB images.</em></small><br>[ID: 35957448]"
      ],
      "text/plain": [
       "<IPython.core.display.HTML object>"
      ]
     },
     "metadata": {},
     "output_type": "display_data"
    },
    {
     "data": {
      "text/html": [
       "<strong><a href=http://dx.doi.org/10.1167/jov.23.10.9>Viewpoint dependence and scene context effects generalize to depth rotated three-dimensional objects.</a></strong><br>2023. Kallmayer A, Võ ML, Draschkow D<br><small><strong>Abstract:</strong> <em>Viewpoint effects on object recognition interact with object-scene consistency effects. While recognition of objects seen from \"noncanonical\" viewpoints (e.g., a cup from below) is typically impeded compared to processing of objects seen from canonical viewpoints (e.g., the string-side of a guitar), this effect is reduced by meaningful scene context information. In the present study we investigated if these findings established by using photographic images, generalize to strongly noncanonical orientations of three-dimensional (3D) models of objects. Using 3D models allowed us to probe a broad range of viewpoints and empirically establish viewpoints with very strong noncanonical and canonical orientations. In Experiment 1, we presented 3D models of objects from six different viewpoints (0°, 60°, 120°, 180° 240°, 300°) in color (1a) and grayscaled (1b) in a sequential matching task. Viewpoint had a significant effect on accuracy and response times. Based on the viewpoint effect in Experiments 1a and 1b, we could empirically determine the most canonical and noncanonical viewpoints from our set of viewpoints to use in Experiment 2. In Experiment 2, participants again performed a sequential matching task, however now the objects were paired with scene backgrounds which could be either consistent (e.g., a cup in the kitchen) or inconsistent (e.g., a guitar in the bathroom) to the object. Viewpoint interacted significantly with scene consistency in that object recognition was less affected by viewpoint when consistent scene information was provided, compared to inconsistent information. Our results show that scene context supports object recognition even when using extremely noncanonical orientations of depth rotated 3D objects. This supports the important role object-scene processing plays for object constancy especially under conditions of high uncertainty.</em></small><br>[ID: 37707802]"
      ],
      "text/plain": [
       "<IPython.core.display.HTML object>"
      ]
     },
     "metadata": {},
     "output_type": "display_data"
    },
    {
     "data": {
      "text/html": [
       "<strong><a href=http://dx.doi.org/10.1016/j.dib.2023.109842>A multimodal dataset for electric guitar playing technique recognition.</a></strong><br>2024. Mitsou A, Petrogianni A, Vakalaki EA, Nikou C, Psallidas T, Giannakopoulos T<br><small><strong>Abstract:</strong> <em>Automatically detecting the playing styles of musical instruments could assist in the development of intelligent software for music coaching and training. However, the respective methodologies are still at an early stage, and there are limitations in the playing techniques that can be identified. This is partly due to the limited availability of complete and real-world datasets of instrument playing styles that are mandatory to develop and train robust machine learning models. To address this issue, in this data article, we introduce a multimodal dataset consisting of 549 video samples in MP4 format, and their respective audio samples in WAV format, covering nine different electric guitar techniques in total. These samples are produced by a recruited guitar player using a smartphone device. The recording setup is designed to closely resemble real-world situations, making the dataset valuable for developing intelligent software applications that can assess the playstyle of guitar players. Furthermore, to capture the diversities that may occur in a real scenario, different exercises are performed using each technique with three different electric guitars and three different simulation amplifiers using an amplifier simulation profiler. In addition to the audio and video samples, we also provide the musescores of the exercises, making the dataset extendable to more guitar players in the future. Finally, to demonstrate the effectiveness of our dataset in developing robust machine learning models, we design a Support Vector Machine (SVM) and a Convolutional Neural Network (CNN) for classifying the guitar techniques using the audio files of the dataset. The code for the experiments is publicly available in the dataset's repository.</em></small><br>[ID: 38076476]"
      ],
      "text/plain": [
       "<IPython.core.display.HTML object>"
      ]
     },
     "metadata": {},
     "output_type": "display_data"
    },
    {
     "data": {
      "text/html": [
       "<strong><a href=http://dx.doi.org/10.3389/fpsyg.2017.00587>Perceptually Salient Regions of the Modulation Power Spectrum for Musical Instrument Identification.</a></strong><br>2017. Thoret E, Depalle P, McAdams S<br><small><strong>Abstract:</strong> <em>The ability of a listener to recognize sound sources, and in particular musical instruments from the sounds they produce, raises the question of determining the acoustical information used to achieve such a task. It is now well known that the shapes of the temporal and spectral envelopes are crucial to the recognition of a musical instrument. More recently, Modulation Power Spectra (MPS) have been shown to be a representation that potentially explains the perception of musical instrument sounds. Nevertheless, the question of which specific regions of this representation characterize a musical instrument is still open. An identification task was applied to two subsets of musical instruments: tuba, trombone, cello, saxophone, and clarinet on the one hand, and marimba, vibraphone, guitar, harp, and viola pizzicato on the other. The sounds were processed with filtered spectrotemporal modulations with 2D Gaussian windows. The most relevant regions of this representation for instrument identification were determined for each instrument and reveal the regions essential for their identification. The method used here is based on a \"molecular approach,\" the so-called bubbles method. Globally, the instruments were correctly identified and the lower values of spectrotemporal modulations are the most important regions of the MPS for recognizing instruments. Interestingly, instruments that were confused with each other led to non-overlapping regions and were confused when they were filtered in the most salient region of the other instrument. These results suggest that musical instrument timbres are characterized by specific spectrotemporal modulations, information which could contribute to music information retrieval tasks such as automatic source recognition.</em></small><br>[ID: 28450846]"
      ],
      "text/plain": [
       "<IPython.core.display.HTML object>"
      ]
     },
     "metadata": {},
     "output_type": "display_data"
    }
   ],
   "source": [
    "query_word = 'guitar'\n",
    "for i in inverted_index[query_word]:\n",
    "    display_summary(i, show_abstract=True)\n",
    "display_summary(28450846, show_abstract=True)"
   ]
  },
  {
   "cell_type": "markdown",
   "metadata": {
    "id": "cLS3Rm9iZ_36"
   },
   "source": [
    "----------"
   ]
  },
  {
   "cell_type": "markdown",
   "metadata": {
    "id": "GVhdywUWZ_36"
   },
   "source": [
    "# Tasks"
   ]
  },
  {
   "cell_type": "markdown",
   "metadata": {
    "id": "xjEBsuRmZ_36"
   },
   "source": [
    "Dimitar Bachvarov"
   ]
  },
  {
   "cell_type": "markdown",
   "metadata": {
    "id": "jSVisMaSZ_36"
   },
   "source": [
    "### Task 1\n",
    "\n",
    "Implement the function `merge_sorted_and` outlined below. This function takes two posting lists from the index that can be assumed to be sorted already (e.g. [3,5,8,11] and [5,7,8,9,11,12]), and it should return the result of the merging of the two lists with AND. The resulting list should therefore include all the elements that appear in both lists. As explained on the slides, this operation should take advantage of the input lists being sorted already, should not perform any additional sorting operation, and should go through each of the input lists just once. Then, test your function with an example."
   ]
  },
  {
   "cell_type": "code",
   "execution_count": 10,
   "metadata": {
    "id": "l7wAWe40Z_36",
    "tags": []
   },
   "outputs": [
    {
     "data": {
      "text/plain": [
       "[5, 8, 11]"
      ]
     },
     "execution_count": 10,
     "metadata": {},
     "output_type": "execute_result"
    }
   ],
   "source": [
    "list1 = [3,5,8,11]\n",
    "list2 = [5,7,8,9,11,12]\n",
    "def merge_sorted_and(l1 : list, l2 : list):\n",
    "    positionl1 : int = 0\n",
    "    positionl2 : int = 0\n",
    "    currValueL1 : int = l1[positionl1]\n",
    "    currValueL2 : int = l2[positionl2]\n",
    "    resultList : list = []\n",
    "\n",
    "    while (positionl1 < len(l1) and positionl2 < len(l2)):\n",
    "        currValueL1 = l1[positionl1]\n",
    "        currValueL2 = l2[positionl2]\n",
    "        if currValueL1 < currValueL2:\n",
    "            positionl1 = positionl1 + 1\n",
    "        elif currValueL1 > currValueL2:\n",
    "            positionl2 = positionl2 + 1\n",
    "        else: \n",
    "            resultList.append(l1[positionl1])\n",
    "            positionl1 = positionl1 + 1\n",
    "            positionl2 = positionl2 + 1\n",
    "            \n",
    "    return resultList\n",
    "\n",
    "merge_sorted_and(list1, list2)\n"
   ]
  },
  {
   "cell_type": "markdown",
   "metadata": {
    "id": "e3zR_ex_Z_37"
   },
   "source": [
    "### Task 2\n",
    "\n",
    "Similarly as above, implement the function `merge_sorted_or` outlined below that executes an OR merging of the lists. The resulting list should therefore include all the elements that appear in at least one of the lists. Again, this operation should take advantage of the input lists being sorted already, should not perform any additional sorting operation, and should go through each of the input lists just once. Elements that appear in both input list should only appear once in the output list. Test your function again with an example."
   ]
  },
  {
   "cell_type": "code",
   "execution_count": 11,
   "metadata": {
    "id": "-n9GJAztZ_37",
    "tags": []
   },
   "outputs": [
    {
     "data": {
      "text/plain": [
       "[3, 5, 7, 8, 9, 11, 12]"
      ]
     },
     "execution_count": 11,
     "metadata": {},
     "output_type": "execute_result"
    }
   ],
   "source": [
    "list1 = [3,5,8,11]\n",
    "list2 = [5,7,8,9,11,12]\n",
    "\n",
    "def exhaustList(list : list, pos : int, result : list):\n",
    "    while pos < len(list):\n",
    "        result.append(list[pos])\n",
    "        pos = pos + 1\n",
    "    return result\n",
    "\n",
    "def merge_sorted_or(l1 : list, l2 : list):\n",
    "    positionl1 : int = 0\n",
    "    positionl2 : int = 0\n",
    "    currValueL1 : int = list1[positionl1]\n",
    "    currValueL2 : int = list2[positionl2]\n",
    "    resultList : list = []\n",
    "\n",
    "    while (positionl1 < len(l1) and positionl2 < len(l2)):\n",
    "        currValueL1 = l1[positionl1]\n",
    "        currValueL2 = l2[positionl2]\n",
    "        if currValueL1 < currValueL2:\n",
    "            resultList.append(l1[positionl1])\n",
    "            positionl1 = positionl1 + 1\n",
    "        elif currValueL1 > currValueL2:\n",
    "            resultList.append(l2[positionl2])\n",
    "            positionl2 = positionl2 + 1\n",
    "        else: \n",
    "            resultList.append(l1[positionl1])\n",
    "            positionl1 = positionl1 + 1\n",
    "            positionl2 = positionl2 + 1\n",
    "        \n",
    "    if positionl1 >= len(l1):\n",
    "        resultList = exhaustList(l2, positionl2, resultList)\n",
    "    elif positionl2 >= len(l2):\n",
    "        resultList = exhaustList(l1, positionl1, resultList)\n",
    "\n",
    "    return resultList\n",
    "\n",
    "merge_sorted_or(list1, list2)"
   ]
  },
  {
   "cell_type": "markdown",
   "metadata": {
    "id": "0msSbXQ1Z_37"
   },
   "source": [
    "### Task 3\n",
    "\n",
    "Construct a function called `and_query` that takes as input a single string, consisting of one or more words, and returns as function value a list of matching documents. `and_query`, as its name suggests, should require that all query terms are present in the documents of the result list.\n",
    "\n",
    "For that, access the variable `inverted_index` from above and use the method `merge_and` that you defined. Also use the `tokenize` and `preprocess` functions we defined above to tokenize and preprocess your query.\n",
    "\n",
    "Again demonstrate the working of your function with an example (choose one that leads to fewer than 100 hits to not overblow this notebook file)."
   ]
  },
  {
   "cell_type": "code",
   "execution_count": 12,
   "metadata": {
    "id": "dlOxYUrcZ_37",
    "tags": []
   },
   "outputs": [
    {
     "name": "stdout",
     "output_type": "stream",
     "text": [
      "['music', 'guitar', 'dataset']\n",
      "music :  [923240, 923267, 1499314, 1500873, 1721996, 2598965, 2927634, 3205664, 3226819, 3995125, 4015871, 5792073, 6457099, 6729329, 7150450, 7159537, 7391515, 7524016, 7559290, 7597114, 8316099, 8365899, 8527054, 8546236, 8774019, 8839100, 9088731, 9090630, 9158323, 9259629, 9583160, 9687196, 9740359, 9740360, 9778835, 9796224, 9831742, 9847541, 10029877, 10053235, 10432509, 10449258, 10643892, 10656133, 10686177, 10928742, 10942664, 10960056, 10976500, 10990522, 10990597, 11292159, 11458867, 11488555, 11527321, 11570934, 11766944, 11844725, 11936169, 12015808, 12186247, 12597728, 14527585, 14585016, 14674630, 14681117, 14714781, 14850988, 14979811, 14985262, 15064662, 15078051, 15446664, 15497033, 15538177, 15561499, 15607545, 15633709, 15684539, 15699060, 15709930, 15807023, 15813500, 15813716, 15867642, 15893524, 15937406, 16054741, 16060458, 16219993, 16404091, 16412410, 16517090, 16597772, 16597796, 16687552, 16761812, 16822137, 16876772, 16931056, 16970965, 17063005, 17063013, 17215391, 17265044, 17289777, 17326508, 17333313, 17338592, 17348760, 17419664, 17430362, 17485980, 17496641, 17496646, 17565219, 17566654, 17634070, 17672638, 17688202, 17848022, 17851892, 17905600, 17965981, 18072277, 18164883, 18167423, 18210821, 18234407, 18249077, 18295992, 18309572, 18335666, 18344870, 18368569, 18369247, 18377180, 18379812, 18501389, 18505332, 18505333, 18505596, 18550194, 18637410, 18669126, 18712216, 18785647, 18785855, 18792382, 18855547, 18959453, 18988943, 19041465, 19082646, 19086302, 19093614, 19102595, 19106769, 19123615, 19203174, 19206802, 19206833, 19214750, 19256727, 19269043, 19295213, 19303300, 19304456, 19336462, 19354401, 19359458, 19372615, 19390171, 19411117, 19474735, 19528028, 19580391, 19588251, 19603888, 19660902, 19673787, 19673789, 19673804, 19673830, 19673833, 19673835, 19679760, 19757877, 19822162, 19842801, 19907350, 19947531, 19955721, 19958251, 20053025, 20058993, 20085197, 20107063, 20142334, 20144699, 20146613, 20151877, 20151886, 20159772, 20188193, 20307678, 20380920, 20403394, 20431125, 20442037, 20452365, 20467305, 20524563, 20551353, 20551355, 20595901, 20633975, 20635091, 20635525, 20657798, 20663569, 20680475, 20740059, 20804254, 20805929, 20865993, 20887648, 20945223, 21038233, 21071094, 21073905, 21077550, 21097197, 21098813, 21117770, 21178567, 21190508, 21264050, 21299309, 21311630, 21318959, 21385617, 21519104, 21526586, 21542331, 21547762, 21553990, 21553992, 21617528, 21639629, 21640958, 21648329, 21667760, 21676105, 21683947, 21689048, 21689457, 21714738, 21714965, 21728462, 21848923, 21857031, 21868840, 21942696, 21954239, 22011113, 22038665, 22039917, 22044234, 22046436, 22110619, 22144968, 22193870, 22207009, 22223890, 22248246, 22255729, 22271265, 22361320, 22367155, 22373527, 22381720, 22398954, 22415559, 22460744, 22524374, 22548168, 22559454, 22579645, 22580199, 22701773, 22723876, 22732561, 22760940, 22803258, 22835928, 22894936, 22895983, 22905936, 23000133, 23033323, 23033741, 23074825, 23133363, 23145619, 23145628, 23213051, 23220447, 23227014, 23234087, 23238370, 23252438, 23274514, 23285010, 23294344, 23336770, 23388499, 23398579, 23399756, 23418992, 23464042, 23477505, 23503992, 23509878, 23516087, 23613083, 23681989, 23684531, 23692999, 23716669, 23746637, 23750144, 23754373, 23758506, 23762455, 23789634, 23823145, 23912427, 23924333, 23961980, 23964255, 23968821, 24006129, 24062634, 24137141, 24180794, 24187543, 24194873, 24194893, 24205353, 24215647, 24224987, 24287507, 24290272, 24322978, 24339807, 24344816, 24349171, 24370266, 24384082, 24495787, 24551131, 24561388, 24604603, 24606295, 24634661, 24666163, 24678720, 24709920, 24720099, 24729748, 24767961, 24770704, 24808096, 24852795, 24873685, 24890686, 24939575, 24949579, 25006041, 25066878, 25070060, 25076869, 25099401, 25113128, 25151640, 25177899, 25183179, 25207803, 25239296, 25257114, 25267133, 25278251, 25301352, 25350404, 25352165, 25385469, 25415938, 25451311, 25479020, 25487869, 25534332, 25536848, 25546030, 25549513, 25551392, 25597075, 25618071, 25691513, 25701046, 25706592, 25773615, 25773616, 25773617, 25773621, 25773624, 25773633, 25773635, 25773638, 25813790, 25814950, 25817847, 25832899, 25998957, 26047068, 26080754, 26081409, 26226563, 26254996, 26357527, 26359715, 26428838, 26508812, 26520146, 26525171, 26541806, 26561890, 26605497, 26607035, 26611684, 26613526, 26631597, 26656189, 26712067, 26737828, 26753216, 26756148, 26773967, 26824211, 26903926, 26943233, 26944220, 26970942, 26973574, 26978128, 26985826, 27068550, 27075919, 27080682, 27085504, 27131744, 27199788, 27309634, 27322085, 27378834, 27383616, 27394152, 27411231, 27425153, 27453363, 27481233, 27523493, 27710964, 27747819, 27764167, 27802226, 27837051, 27837214, 27849128, 27869530, 28004803, 28039057, 28040801, 28054814, 28055850, 28103714, 28156026, 28240980, 28282400, 28351216, 28355227, 28372068, 28376689, 28386241, 28403694, 28412439, 28432568, 28450846, 28472146, 28522981, 28554063, 28658285, 28717902, 28720526, 28790442, 28806336, 28812976, 28824392, 28834330, 28860503, 28940086, 28984805, 28992203, 29040288, 29056895, 29060499, 29090370, 29094985, 29105620, 29141304, 29144396, 29170647, 29186566, 29198528, 29227577, 29239655, 29246486, 29270118, 29335643, 29389184, 29472873, 29474854, 29478708, 29484971, 29534831, 29542128, 29558485, 29558721, 29609496, 29681533, 29714918, 29745546, 29766450, 29779733, 29849556, 29852424, 29937844, 29958289, 30056054, 30076932, 30096062, 30138751, 30156457, 30173601, 30181063, 30183781, 30221202, 30238294, 30344470, 30357059, 30363735, 30410455, 30428762, 30501073, 30522778, 30555520, 30665002, 30668568, 30726220, 30741908, 30781617, 30821910, 30837633, 30918365, 30923341, 30950727, 30952161, 30956655, 30978607, 30980048, 30984074, 31091118, 31149358, 31153307, 31178706, 31308413, 31316411, 31318402, 31323837, 31391062, 31429045, 31551687, 31551857, 31560265, 31647961, 31666553, 31669411, 31680802, 31715197, 31736688, 31745159, 31747526, 31759191, 31776972, 31790454, 31805815, 31868392, 31884501, 31920520, 31945735, 32069128, 32116613, 32116935, 32123973, 32132941, 32176126, 32296318, 32302600, 32442777, 32457382, 32572038, 32574363, 32575952, 32587354, 32659171, 32718172, 32719832, 32746090, 32875400, 32908227, 32926234, 32955643, 32973610, 32982862, 32999309, 33032499, 33046161, 33049954, 33074236, 33078363, 33090055, 33114599, 33141730, 33201423, 33254374, 33281705, 33321542, 33448253, 33568976, 33647221, 33660560, 33784471, 33808989, 33881610, 33912101, 33954279, 33989299, 34025335, 34086580, 34135392, 34163411, 34185549, 34204487, 34206398, 34306394, 34329821, 34341940, 34366768, 34444299, 34450545, 34456670, 34460486, 34496377, 34531717, 34535731, 34586881, 34596714, 34603132, 34609210, 34650499, 34659056, 34707530, 34723184, 34738276, 34768123, 34776446, 34789746, 34790157, 34803820, 34828199, 34898044, 34901433, 34904483, 34917714, 34919558, 34956348, 34958421, 34973924, 35022449, 35049163, 35053777, 35053789, 35058858, 35120013, 35198020, 35248707, 35250738, 35310192, 35310596, 35378810, 35381912, 35393470, 35440938, 35446066, 35479602, 35501427, 35586087, 35586091, 35602641, 35607476, 35632130, 35634052, 35669668, 35676960, 35677082, 35693513, 35694592, 35694609, 35699779, 35707187, 35712062, 35720906, 35724531, 35733449, 35733556, 35733568, 35733575, 35739322, 35741590, 35741629, 35774442, 35812236, 35814087, 35814355, 35821710, 35821713, 35837219, 35844939, 35845890, 35865500, 35875750, 35936831, 35941710, 35962477, 35978901, 35990125, 35990882, 36006583, 36008746, 36035856, 36043053, 36046079, 36053239, 36085662, 36094165, 36121341, 36159767, 36164420, 36164425, 36194002, 36202618, 36203722, 36238675, 36246453, 36262378, 36275983, 36291252, 36298089, 36312074, 36324532, 36387584, 36418441, 36453947, 36466774, 36495227, 36523756, 36530499, 36554139, 36612700, 36616980, 36619532, 36622014, 36630376, 36653897, 36657242, 36671671, 36731279, 36747361, 36806508, 36811621, 36913989, 36947663, 36949277, 36971041, 37019916, 37036200, 37058191, 37062815, 37073951, 37079543, 37083746, 37104122, 37141051, 37155635, 37259644, 37270014, 37274943, 37280743, 37339618, 37354542, 37362640, 37362687, 37400478, 37410437, 37420740, 37456606, 37483354, 37538669, 37547395, 37555237, 37561758, 37564600, 37607151, 37649134, 37723336, 37730822, 37748501, 37758325, 37771909, 37792073, 37796970, 37803571, 37810354, 37839672, 37851369, 37887848, 38076476, 38151931, 38186091, 38194096, 38241769, 38256533, 38267741, 38406195, 38422058, 38426839, 38437807, 38441154, 38539605, 38557941, 38560723, 38564622, 38581439, 38610412, 38617132, 38625576, 38629034, 38649338, 38676137, 38684154, 38702502, 38748741, 38761451, 38815645, 38952924, 38964476, 39032271, 39032629, 39046950, 39071970, 39095618, 39110413, 39110701, 39112810, 39159032, 39213300, 39264640, 39275694, 39275858, 39296709, 39335422, 39367155, 39432493]\n",
      "guitar :  [2343768, 17258164, 20919784, 21983182, 28479473, 32574363, 33114599, 35957448, 37707802, 38076476]\n",
      "dataset :  [7749366, 8107094, 8557406, 8740525, 8759323, 8918603, 9007974, 9232648, 9300496, 9390317, 9488136, 9652406, 9723874, 9929330, 10071887, 11052792, 11063259, 11205970, 11417405, 11704277, 11811822, 11983834, 12009263, 12050069, 12130915, 12204304, 12217908, 12234722, 12238521, 12378948, 12381306, 12489097, 12607839, 12634048, 12826723, 12902551, 12912828, 12956261, 12965001, 14512345, 14634848, 14644143, 14715071, 14980018, 14984570, 14988129, 15065673, 15065679, 15124991, 15186799, 15188880, 15191279, 15215416, 15248536, 15297297, 15302912, 15314209, 15324770, 15450124, 15488750, 15495334, 15554126, 15608049, 15619936, 15706518, 15714472, 15719936, 15751112, 15780914, 15789594, 15790576, 15797296, 15828648, 15833439, 15854844, 15871044, 15876616, 15889397, 15889492, 15890742, 15949889, 15958165, 15971202, 15980017, 15988040, 15990265, 16002049, 16013247, 16044193, 16078363, 16121736, 16140260, 16141248, 16168689, 16187272, 16193793, 16204128, 16220690, 16235652, 16253531, 16323044, 16366254, 16376839, 16445253, 16447989, 16479579, 16524082, 16566836, 16635591, 16672248, 16685827, 16685994, 16686018, 16686025, 16722181, 16763996, 16789818, 16808896, 16808903, 16842229, 16843097, 16845064, 16863650, 16871716, 16873476, 16904096, 16908032, 16916087, 16935929, 16965167, 16971184, 17009862, 17017987, 17031474, 17040072, 17051648, 17055738, 17120237, 17140266, 17153205, 17222445, 17235453, 17244638, 17245815, 17266649, 17301453, 17326043, 17354682, 17354759, 17354782, 17354806, 17354884, 17354918, 17369631, 17390989, 17390990, 17393392, 17397062, 17420223, 17427742, 17485242, 17503374, 17524617, 17547142, 17570370, 17627847, 17633731, 17649908, 17654922, 17666768, 17688432, 17688435, 17699931, 17720530, 17725421, 17762141, 17803215, 17826947, 17895272, 17926697, 17926701, 17945806, 17945896, 17946331, 17946339, 17946853, 17960442, 17968105, 17985305, 17993712, 18002165, 18002688, 18002813, 18002822, 18003146, 18003258, 18003277, 18003386, 18023478, 18039704, 18044570, 18044645, 18046938, 18047723, 18051074, 18051139, 18052539, 18157588, 18163182, 18182302, 18234471, 18238070, 18255261, 18262472, 18267018, 18270065, 18280796, 18314319, 18331979, 18334307, 18334407, 18342336, 18343985, 18348931, 18366021, 18369257, 18369268, 18369434, 18390367, 18390369, 18394595, 18399074, 18410994, 18412113, 18416829, 18423022, 18423492, 18426548, 18435249, 18440905, 18452208, 18473140, 18491532, 18491550, 18508644, 18568825, 18573133, 18586741, 18601558, 18602785, 18602854, 18603650, 18613039, 18618701, 18632325, 18632362, 18658005, 18682743, 18693499, 18693501, 18759382, 18765345, 18776952, 18778457, 18787244, 18802781, 18815101, 18941985, 18955180, 18955181, 18975698, 18979748, 18979785, 18979823, 18979832, 18982587, 18982696, 18988943, 18989045, 18990710, 18991767, 18998827, 18998887, 18999010, 19002227, 19029550, 19029555, 19056827, 19058653, 19095523, 19129030, 19162806, 19162807, 19162922, 19163365, 19163556, 19163759, 19163851, 19163935, 19163948, 19167739, 19184222, 19207418, 19212457, 19216343, 19229088, 19258201, 19268924, 19274708, 19342330, 19417065, 19418016, 19434601, 19443076, 19446435, 19497836, 19524682, 19567340, 19592290, 19605314, 19665046, 19687564, 19694249, 19726268, 19735097, 19747872, 19753630, 19761570, 19763254, 19789095, 19806439, 19808668, 19810466, 19814907, 19816741, 19822224, 19843695, 19875995, 19883906, 19884099, 19920127, 19963466, 19963715, 19963774, 19964162, 19964898, 19964919, 19965054, 19965232, 19965247, 20001911, 20002259, 20004492, 20060495, 20071259, 20093124, 20104646, 20153604, 20172790, 20172805, 20181330, 20181590, 20221258, 20226255, 20227983, 20304727, 20346728, 20357846, 20363675, 20378464, 20381945, 20425993, 20426141, 20426175, 20426183, 20426185, 20460199, 20467113, 20472071, 20512422, 20542763, 20547862, 20550978, 20580850, 20595035, 20602980, 20636893, 20640829, 20656655, 20691397, 20692885, 20703562, 20729164, 20800995, 20812324, 20813193, 20813645, 20824304, 20840006, 20855278, 20862601, 20865503, 20878236, 20879208, 20879221, 20879278, 20879288, 20879313, 20879386, 20879388, 20879455, 20880957, 20933295, 20959268, 20977985, 21041159, 21041634, 21062680, 21075209, 21081235, 21095740, 21095765, 21095831, 21096016, 21096340, 21096478, 21096822, 21096849, 21097291, 21108360, 21111177, 21118823, 21134807, 21152409, 21156391, 21191152, 21216696, 21286946, 21292983, 21373993, 21420580, 21421428, 21421438, 21431566, 21435985, 21439876, 21449717, 21461404, 21486714, 21503649, 21538542, 21545844, 21545848, 21550883, 21555207, 21597992, 21600047, 21600290, 21601841, 21625633, 21644955, 21672765, 21685335, 21695498, 21710640, 21737338, 21743845, 21761649, 21761672, 21761691, 21775258, 21788183, 21803685, 21813358, 21824844, 21829453, 21829512, 21829559, 21859035, 21865074, 21872668, 21880310, 21880566, 21907810, 21911067, 21911242, 21926008, 21949476, 21962369, 21990334, 22003686, 22003696, 22003702, 22003708, 22003711, 22003756, 22008370, 22010143, 22014476, 22065158, 22070330, 22102212, 22105141, 22110625, 22119489, 22128002, 22130219, 22138239, 22162745, 22163882, 22192092, 22195229, 22203708, 22205862, 22208280, 22248634, 22249593, 22254467, 22254468, 22254602, 22254676, 22255050, 22255493, 22255614, 22255635, 22255694, 22256004, 22257909, 22290409, 22293156, 22304784, 22319565, 22330076, 22357057, 22374343, 22374536, 22380444, 22381587, 22394690, 22402380, 22434795, 22467009, 22467531, 22481823, 22484347, 22500924, 22502607, 22510948, 22522287, 22531765, 22545662, 22551084, 22562231, 22568758, 22581501, 22588574, 22595089, 22614650, 22615802, 22661619, 22661884, 22682259, 22692772, 22697238, 22701634, 22712950, 22717505, 22736688, 22738960, 22743197, 22749811, 22781162, 22792310, 22806985, 22829364, 22840281, 22843236, 22850462, 22851230, 22888314, 22888580, 22889819, 22922730, 22926293, 22938913, 22955901, 22960087, 22997127, 22997129, 23008145, 23028297, 23029121, 23033427, 23049804, 23064754, 23079467, 23085199, 23102750, 23116714, 23118959, 23202215, 23203637, 23204284, 23204288, 23233858, 23243462, 23265798, 23267200, 23269854, 23273502, 23273891, 23285600, 23286056, 23286081, 23286094, 23286101, 23286116, 23286123, 23286133, 23286136, 23286140, 23286145, 23286151, 23286154, 23286155, 23286159, 23286161, 23286162, 23286164, 23286179, 23313331, 23319109, 23319111, 23335663, 23335664, 23366082, 23366641, 23366676, 23366912, 23367038, 23367668, 23372070, 23372073, 23410935, 23415158, 23429514, 23431187, 23466075, 23476005, 23511729, 23516555, 23520262, 23524637, 23548029, 23555669, 23568787, 23660135, 23674410, 23679342, 23681988, 23702328, 23722446, 23728619, 23731758, 23734257, 23743773, 23746721, 23757539, 23757552, 23787345, 23797238, 23797260, 23797311, 23797313, 23813237, 23823374, 23828247, 23846470, 23846511, 23857259, 23861030, 23877232, 23893759, 23894729, 23924412, 23936315, 23940544, 23968040, 23969388, 23972972, 23977154, 23981437, 23984415, 23988384, 24010268, 24028798, 24050851, 24051722, 24051724, 24051784, 24051789, 24051790, 24054643, 24065939, 24066016, 24072026, 24078018, 24080528, 24096147, 24100762, 24111452, 24130686, 24136426, 24136439, 24145424, 24146821, 24155053, 24163631, 24179864, 24189333, 24194941, 24204761, 24225489, 24239296, 24242977, 24272142, 24290943, 24300548, 24305169, 24305904, 24314512, 24316568, 24348740, 24349088, 24378309, 24391891, 24440175, 24448469, 24448918, 24474825, 24485269, 24505651, 24505678, 24505680, 24505764, 24505786, 24505790, 24505808, 24520317, 24525169, 24530210, 24531045, 24531053, 24533066, 24551357, 24556079, 24561989, 24565105, 24565115, 24574920, 24579122, 24579138, 24579148, 24579149, 24579163, 24579169, 24579177, 24579181, 24587817, 24608050, 24608059, 24636803, 24637155, 24658227, 24658593, 24660022, 24675643, 24683959, 24683988, 24683995, 24684005, 24691198, 24706844, 24710161, 24721769, 24733032, 24739163, 24740247, 24746606, 24759981, 24760909, 24784581, 24801049, 24804953, 24807135, 24808216, 24808280, 24826989, 24831181, 24835178, 24839601, 24839840, 24860037, 24860817, 24886150, 24895648, 24909867, 24919205, 24920114, 24920119, 24931676, 24936797, 24945676, 24953958, 24955403, 24972858, 24976104, 24977146, 24977164, 24982986, 24991942, 25004155, 25008538, 25014934, 25016957, 25018049, 25018740, 25019677, 25035310, 25036529, 25051553, 25055311, 25055383, 25073162, 25073178, 25073181, 25095432, 25096156, 25107302, 25113160, 25113321, 25121120, 25122834, 25122849, 25127129, 25136571, 25142485, 25156576, 25159038, 25161398, 25165748, 25167566, 25170020, 25172188, 25184541, 25189363, 25190490, 25196838, 25216475, 25220766, 25227037, 25238811, 25242853, 25243177, 25248211, 25250338, 25259945, 25265635, 25268914, 25296409, 25302074, 25302317, 25309910, 25320777, 25320780, 25330429, 25333130, 25333132, 25333142, 25333151, 25333159, 25333178, 25333186, 25333188, 25333189, 25333190, 25343762, 25347888, 25352153, 25356586, 25361497, 25372620, 25375756, 25383789, 25398187, 25406972, 25410041, 25423662, 25436224, 25450139, 25463474, 25464787, 25467806, 25485374, 25485384, 25485407, 25485408, 25485410, 25485416, 25485417, 25485438, 25485442, 25488214, 25531008, 25531013, 25532145, 25561456, 25561602, 25562181, 25570067, 25570259, 25570730, 25570917, 25571472, 25576352, 25594576, 25596765, 25619122, 25620856, 25624045, 25624419, 25638062, 25645318, 25645915, 25652348, 25653738, 25688552, 25710040, 25719799, 25730421, 25732079, 25786796, 25796736, 25810749, 25810771, 25823052, 25836568, 25838536, 25841182, 25856329, 25863517, 25868233, 25879039, 25933215, 25951377, 25954393, 25977158, 25986750, 25987530, 25988172, 25991137, 25991275, 26007719, 26016921, 26024226, 26037052, 26046781, 26053631, 26054080, 26068546, 26069906, 26076070, 26106323, 26130605, 26147887, 26147979, 26190996, 26197321, 26201875, 26206400, 26208309, 26210359, 26213528, 26217723, 26217753, 26217795, 26218274, 26221133, 26221682, 26221694, 26221713, 26221959, 26233307, 26233788, 26246270, 26247061, 26256737, 26259209, 26259520, 26267476, 26293705, 26294593, 26302519, 26304547, 26305321, 26336116, 26340254, 26343665, 26348663, 26352457, 26353133, 26353157, 26353222, 26353226, 26353306, 26356882, 26357255, 26357352, 26362721, 26363532, 26366765, 26376462, 26380306, 26390488, 26396743, 26401431, 26405918, 26405954, 26405960, 26413473, 26434782, 26439938, 26440271, 26440281, 26451829, 26454259, 26485971, 26513799, 26523425, 26539846, 26540676, 26540677, 26547977, 26548943, 26560852, 26567124, 26568954, 26569262, 26584488, 26599155, 26616240, 26619189, 26634450, 26634993, 26635513, 26655334, 26656580, 26656587, 26657561, 26663911, 26670586, 26684256, 26687709, 26712277, 26731641, 26733912, 26736212, 26736370, 26736378, 26736894, 26736925, 26736928, 26737303, 26737473, 26737956, 26742135, 26743197, 26745084, 26748113, 26761857, 26774796, 26779217, 26779665, 26797612, 26798574, 26805838, 26819907, 26822863, 26823632, 26829672, 26849421, 26854941, 26861319, 26863090, 26863652, 26874961, 26886976, 26894329, 26909369, 26919699, 26923371, 26948109, 26949412, 26966718, 26978932, 26980999, 26992185, 26994911, 26999616, 27000290, 27006975, 27015427, 27019478, 27023543, 27028195, 27033682, 27037971, 27046838, 27046846, 27056410, 27060891, 27066233, 27071189, 27087308, 27106584, 27107687, 27119052, 27136554, 27157417, 27162164, 27164593, 27169464, 27179447, 27184203, 27212940, 27225579, 27235721, 27246167, 27253083, 27254859, 27255798, 27258282, 27264684, 27271623, 27273091, 27281032, 27286184, 27306927, 27322352, 27333599, 27340396, 27352136, 27362387, 27367425, 27402600, 27413392, 27429453, 27441291, 27460614, 27464351, 27474520, 27477880, 27478060, 27481767, 27498058, 27498069, 27500194, 27504009, 27510265, 27512638, 27517928, 27537888, 27550443, 27563663, 27574113, 27579307, 27582431, 27635654, 27638650, 27662677, 27664967, 27667883, 27722821, 27730029, 27747591, 27766519, 27773827, 27774837, 27791171, 27807443, 27810626, 27816861, 27828291, 27832103, 27843447, 27845651, 27853419, 27867346, 27918414, 27932917, 27935955, 27959804, 27959832, 27973452, 27983604, 27986607, 27992431, 27999301, 28003450, 28013025, 28026749, 28042838, 28053650, 28060703, 28092553, 28096809, 28097213, 28099891, 28100792, 28113291, 28113444, 28113594, 28113882, 28114043, 28117689, 28117742, 28134818, 28147685, 28161876, 28167405, 28192282, 28207385, 28230745, 28232260, 28245586, 28260614, 28264503, 28268406, 28268436, 28268449, 28268855, 28268917, 28269153, 28269719, 28269888, 28270847, 28271039, 28287963, 28324694, 28325033, 28342043, 28359635, 28362614, 28363149, 28364375, 28371786, 28379208, 28386672, 28391199, 28409178, 28420155, 28422680, 28428494, 28445480, 28467266, 28467371, 28477206, 28479552, 28492486, 28495372, 28504953, 28508027, 28512630, 28521044, 28521242, 28523276, 28534806, 28534816, 28538990, 28542537, 28547747, 28549410, 28590422, 28606869, 28611582, 28611840, 28612935, 28641273, 28644851, 28653995, 28678669, 28692961, 28692962, 28692964, 28692984, 28742048, 28748227, 28753975, 28779457, 28783503, 28792991, 28797096, 28809848, 28810903, 28815103, 28841194, 28848763, 28856040, 28859140, 28866526, 28875071, 28878646, 28880158, 28884256, 28910352, 28937987, 28947001, 28953267, 28961163, 28961473, 28964088, 28977405, 28980144, 28989067, 29028218, 29034288, 29036068, 29038550, 29047710, 29047952, 29049291, 29053781, 29057287, 29059894, 29060270, 29060682, 29065473, 29065592, 29065599, 29065647, 29099091, 29126070, 29134168, 29143764, 29163582, 29184668, 29185058, 29186923, 29190737, 29204257, 29209190, 29216184, 29230895, 29253754, 29253876, 29258217, 29263566, 29277597, 29301337, 29301705, 29323205, 29341323, 29350328, 29366532, 29372327, 29375804, 29377804, 29379899, 29389863, 29399672, 29414435, 29434636, 29437158, 29461502, 29486390, 29500637, 29510529, 29513677, 29525562, 29530251, 29539525, 29545739, 29549733, 29565310, 29579039, 29602437, 29615853, 29616456, 29617401, 29633684, 29659512, 29663090, 29665025, 29665725, 29689766, 29693975, 29710869, 29724435, 29727275, 29730046, 29735249, 29735337, 29740294, 29745499, 29747439, 29757739, 29758967, 29763790, 29772725, 29786659, 29794974, 29796778, 29798733, 29843482, 29849547, 29854365, 29854569, 29869618, 29869762, 29873026, 29880774, 29882777, 29882788, 29888061, 29891830, 29922707, 29933203, 29946249, 29947804, 29948907, 29958275, 29966940, 29967355, 29972616, 29986515, 29987218, 29990104, 29993569, 29993792, 29993945, 29994096, 29994326, 29994536, 29994596, 30010578, 30018362, 30033391, 30034462, 30040648, 30040672, 30041131, 30041421, 30041500, 30041920, 30046416, 30049414, 30054262, 30054743, 30054779, 30055096, 30056291, 30066123, 30066665, 30068128, 30070411, 30071586, 30074992, 30076068, 30077893, 30079125, 30084945, 30099151, 30103498, 30105920, 30108019, 30111995, 30130243, 30147199, 30148035, 30152811, 30169779, 30170148, 30170646, 30173017, 30191204, 30195040, 30200377, 30200575, 30201854, 30203254, 30219733, 30221893, 30222563, 30222590, 30225286, 30229093, 30235150, 30239680, 30243641, 30243995, 30246064, 30248968, 30249024, 30249976, 30253121, 30257526, 30279554, 30281448, 30307853, 30312959, 30314309, 30314385, 30326647, 30352003, 30364639, 30371372, 30377561, 30379910, 30395642, 30397730, 30400224, 30400629, 30402085, 30415697, 30415716, 30415720, 30420693, 30428617, 30440382, 30440411, 30440477, 30440540, 30440604, 30440769, 30440819, 30441691, 30453520, 30463540, 30483068, 30486317, 30486421, 30496179, 30518140, 30521854, 30544744, 30547063, 30547741, 30551763, 30552329, 30560325, 30563076, 30566525, 30571627, 30571777, 30582526, 30586882, 30587426, 30618723, 30620780, 30627147, 30629491, 30634583, 30634612, 30646935, 30647727, 30654165, 30658480, 30668493, 30677193, 30687900, 30691177, 30705618, 30706211, 30708971, 30711680, 30714928, 30720749, 30747910, 30754685, 30763336, 30771125, 30771512, 30781367, 30781566, 30791648, 30794175, 30802849, 30802862, 30809114, 30811445, 30813259, 30814523, 30818005, 30832408, 30833825, 30856387, 30869616, 30875262, 30898381, 30906508, 30921608, 30922611, 30932855, 30933990, 30946674, 30946690, 30948806, 30955160, 30959760, 30966953, 30969988, 30995789, 31010151, 31021810, 31035377, 31037245, 31044788, 31048071, 31052314, 31052320, 31059443, 31071033, 31078294, 31080402, 31086110, 31095475, 31095476, 31095481, 31103785, 31110472, 31111697, 31117183, 31127535, 31135373, 31136971, 31137204, 31138109, 31148564, 31159503, 31167850, 31180879, 31208007, 31216650, 31226662, 31227923, 31233970, 31234499, 31235468, 31236786, 31239957, 31244638, 31248004, 31259014, 31259033, 31265392, 31265400, 31294058, 31307132, 31313129, 31313451, 31323875, 31327058, 31331122, 31331879, 31334312, 31338704, 31342921, 31349286, 31349338, 31352339, 31354440, 31354800, 31364328, 31366022, 31368025, 31371499, 31372425, 31376634, 31380658, 31380745, 31386797, 31387314, 31398651, 31398938, 31402841, 31405018, 31415845, 31416251, 31428122, 31430292, 31432622, 31434529, 31437878, 31450609, 31450654, 31451803, 31452098, 31454980, 31465487, 31470521, 31482442, 31492034, 31492112, 31502996, 31505480, 31506931, 31507396, 31510064, 31515074, 31516934, 31517043, 31519997, 31520984, 31534668, 31541715, 31557528, 31562095, 31562114, 31568974, 31569694, 31578338, 31581266, 31593843, 31601078, 31603797, 31622426, 31627356, 31635231, 31639622, 31639780, 31641123, 31649675, 31656834, 31658784, 31662787, 31665221, 31667220, 31667230, 31669702, 31671320, 31676931, 31682732, 31683608, 31689202, 31695883, 31698242, 31700953, 31744197, 31747820, 31748557, 31750523, 31751245, 31751282, 31751666, 31754105, 31758339, 31760194, 31768897, 31774907, 31781289, 31794777, 31795509, 31813491, 31813954, 31814851, 31824277, 31831433, 31835404, 31844575, 31851906, 31856726, 31866888, 31869792, 31869809, 31870989, 31871441, 31878500, 31886332, 31898863, 31905158, 31905991, 31907754, 31927474, 31932777, 31933623, 31933675, 31936546, 31941030, 31944975, 31945005, 31945990, 31945992, 31946069, 31946117, 31946207, 31946230, 31946402, 31946403, 31946525, 31946581, 31946651, 31954340, 31963623, 31971953, 31972448, 31973078, 31973114, 31975670, 31985446, 31989005, 31991849, 31992979, 31997289, 32009868, 32012920, 32012976, 32023973, 32028568, 32030668, 32038857, 32041965, 32043091, 32057997, 32069927, 32072964, 32075020, 32079299, 32079319, 32093028, 32096995, 32098135, 32100667, 32109551, 32120355, 32132545, 32140516, 32140517, 32149670, 32149702, 32155888, 32156100, 32161520, 32161948, 32163795, 32164153, 32164293, 32164298, 32178296, 32198115, 32202473, 32203038, 32206430, 32214102, 32218745, 32223950, 32235541, 32238600, 32240408, 32258287, 32260445, 32265674, 32274005, 32274009, 32276493, 32283816, 32286995, 32294930, 32294962, 32295028, 32295097, 32295187, 32295298, 32305901, 32308882, 32316626, 32325814, 32326059, 32331463, 32339167, 32346559, 32353595, 32354187, 32355409, 32360988, 32363397, 32364514, 32373681, 32375222, 32380751, 32384651, 32384716, 32384737, 32390646, 32397446, 32397536, 32408586, 32410538, 32413059, 32413503, 32415269, 32415963, 32420423, 32424299, 32426340, 32429803, 32431952, 32432088, 32435681, 32443272, 32443857, 32455623, 32455931, 32462061, 32462065, 32464328, 32466693, 32468527, 32475767, 32477091, 32478049, 32490098, 32501139, 32517141, 32532113, 32551729, 32559172, 32560493, 32561769, 32570368, 32574842, 32575708, 32575798, 32585570, 32599617, 32602538, 32604588, 32610422, 32612632, 32629955, 32634104, 32634375, 32635378, 32641808, 32642289, 32646426, 32647196, 32650486, 32669565, 32677882, 32678139, 32678183, 32681214, 32682098, 32685639, 32685972, 32699302, 32703995, 32704450, 32706190, 32707928, 32709065, 32709157, 32712465, 32715044, 32721835, 32722755, 32724504, 32730279, 32737327, 32746128, 32746315, 32750777, 32750809, 32750831, 32751868, 32755857, 32760305, 32762198, 32764243, 32765639, 32774445, 32775584, 32779779, 32784547, 32790672, 32801058, 32809952, 32813726, 32822292, 32823807, 32824712, 32824766, 32825013, 32831817, 32833640, 32833642, 32835308, 32837499, 32839603, 32841132, 32842459, 32845838, 32849576, 32854288, 32861915, 32864175, 32867289, 32870793, 32872230, 32874685, 32877456, 32878209, 32882884, 32885004, 32886606, 32886705, 32897866, 32901038, 32903824, 32904359, 32904366, 32911809, 32914150, 32916387, 32917024, 32919019, 32923548, 32932939, 32933178, 32937774, 32937867, 32938407, 32938937, 32940803, 32941136, 32941139, 32946409, 32951903, 32952988, 32953063, 32961749, 32961918, 32962046, 32963513, 32963514, 32967087, 32968767, 32977275, 32979254, 32984464, 32986544, 32987525, 32991296, 32995389, 32998382, 32998724, 33003198, 33004380, 33013279, 33014032, 33014355, 33014638, 33017173, 33017929, 33017942, 33018071, 33018079, 33018089, 33018153, 33018186, 33018255, 33018915, 33019205, 33019238, 33019243, 33019248, 33019284, 33022966, 33028812, 33034326, 33036479, 33041409, 33050164, 33055923, 33067452, 33068806, 33074807, 33075638, 33076258, 33078363, 33078827, 33080866, 33081134, 33082344, 33087606, 33090951, 33091826, 33092861, 33096719, 33096933, 33097723, 33102645, 33105027, 33105910, 33113907, 33114599, 33119671, 33120595, 33125917, 33125990, 33135044, 33143311, 33148523, 33152016, 33166786, 33175839, 33181405, 33182813, 33190877, 33195774, 33198083, 33199682, 33199696, 33200960, 33201824, 33201954, 33202653, 33203065, 33207826, 33209967, 33212894, 33213025, 33226946, 33232334, 33232887, 33233412, 33247116, 33251307, 33255374, 33257744, 33259294, 33260098, 33261152, 33265195, 33266533, 33267068, 33267137, 33267276, 33286351, 33286467, 33286680, 33286954, 33291019, 33291592, 33291774, 33294535, 33296363, 33297370, 33299909, 33311111, 33312394, 33313672, 33319816, 33322465, 33324153, 33326380, 33330624, 33333839, 33343595, 33346100, 33351757, 33353527, 33354607, 33360994, 33363707, 33374281, 33374591, 33374672, 33375508, 33375715, 33376761, 33376765, 33379976, 33386409, 33390918, 33396255, 33401744, 33406221, 33413073, 33422929, 33424432, 33425651, 33425664, 33437854, 33438817, 33444137, 33446839, 33449877, 33457412, 33477884, 33490085, 33490322, 33490324, 33493115, 33494254, 33497335, 33498332, 33498702, 33498829, 33500897, 33500915, 33501140, 33501220, 33501303, 33505263, 33505643, 33519402, 33521223, 33523811, 33534712, 33535389, 33537382, 33539294, 33539768, 33540500, 33540786, 33540831, 33544673, 33547854, 33552840, 33556833, 33557239, 33560976, 33561247, 33562715, 33572869, 33575587, 33577677, 33578842, 33584016, 33584818, 33585821, 33591919, 33593900, 33595646, 33600336, 33601289, 33604423, 33604435, 33606929, 33613220, 33613430, 33614872, 33615902, 33616887, 33618727, 33621171, 33634413, 33635799, 33639796, 33639830, 33643853, 33645984, 33648130, 33651687, 33652697, 33655198, 33660087, 33661745, 33664365, 33664553, 33668745, 33668820, 33670099, 33671525, 33673137, 33677231, 33679348, 33679361, 33684730, 33706660, 33714005, 33716819, 33723046, 33733225, 33737889, 33738430, 33739920, 33739923, 33748324, 33748709, 33749784, 33760855, 33770929, 33780335, 33786999, 33798180, 33798351, 33800776, 33801663, 33801739, 33803891, 33804317, 33808240, 33809038, 33809352, 33810140, 33814729, 33816901, 33817002, 33817010, 33821927, 33823091, 33824656, 33825016, 33826095, 33834381, 33836507, 33839304, 33840896, 33841094, 33846358, 33853831, 33859807, 33864189, 33864972, 33870050, 33873024, 33892388, 33892533, 33898530, 33899422, 33899436, 33899438, 33903785, 33904008, 33909582, 33917260, 33917904, 33918027, 33918955, 33919360, 33919583, 33923712, 33923829, 33924985, 33927204, 33930574, 33937455, 33945075, 33945138, 33946262, 33946472, 33951512, 33953232, 33958664, 33962128, 33967592, 33967656, 33967675, 33967937, 33968160, 33979288, 33987611, 33997191, 33999815, 34006910, 34007266, 34014495, 34018935, 34025381, 34025483, 34029309, 34033551, 34033552, 34033571, 34034009, 34034071, 34035883, 34038371, 34041318, 34041321, 34042847, 34043509, 34044155, 34046529, 34052016, 34061854, 34063055, 34064177, 34064750, 34065700, 34067137, 34067203, 34067467, 34071029, 34071655, 34072079, 34075316, 34084940, 34095025, 34095382, 34095388, 34102430, 34119691, 34121598, 34138926, 34139436, 34140477, 34141887, 34142532, 34148204, 34153549, 34156955, 34158562, 34162027, 34166219, 34170823, 34177121, 34180189, 34185166, 34189197, 34189207, 34195073, 34195699, 34198459, 34199559, 34201039, 34201381, 34201479, 34202766, 34204238, 34205885, 34206768, 34207119, 34208161, 34208736, 34214034, 34219969, 34221300, 34226836, 34226873, 34230817, 34236653, 34239976, 34244491, 34247133, 34255628, 34256257, 34258462, 34267230, 34271012, 34273721, 34275222, 34276332, 34277901, 34279739, 34283149, 34285692, 34290724, 34300474, 34300489, 34300525, 34300526, 34300578, 34300585, 34305257, 34305947, 34306048, 34306590, 34308472, 34310287, 34326865, 34329959, 34330946, 34332352, 34335165, 34336159, 34337390, 34337589, 34338992, 34340425, 34344970, 34345248, 34347603, 34360065, 34360281, 34372186, 34372327, 34372468, 34373531, 34373840, 34375851, 34382460, 34383643, 34387474, 34393277, 34395131, 34398005, 34404468, 34407527, 34413968, 34414397, 34422245, 34428147, 34432639, 34435095, 34441187, 34441253, 34444152, 34447555, 34447739, 34448519, 34450729, 34450750, 34450894, 34450921, 34451545, 34451670, 34456704, 34457173, 34460388, 34460515, 34460538, 34460587, 34460612, 34460688, 34460702, 34460719, 34460734, 34460762, 34460793, 34460797, 34460805, 34461503, 34469471, 34473778, 34478365, 34484320, 34484569, 34485637, 34485642, 34490004, 34491988, 34494161, 34495853, 34497846, 34501638, 34502576, 34502592, 34502593, 34502604, 34502653, 34502711, 34502757, 34502783, 34502785, 34502863, 34505115, 34509053, 34509391, 34520078, 34520376, 34522730, 34522832, 34526611, 34527040, 34527701, 34529185, 34531015, 34538238, 34543191, 34543914, 34546920, 34547014, 34552705, 34554913, 34564115, 34566614, 34571539, 34573904, 34574055, 34577479, 34577515, 34577617, 34584342, 34599194, 34603651, 34604527, 34613213, 34613264, 34616885, 34630546, 34630550, 34631801, 34632373, 34638169, 34638174, 34640754, 34640845, 34640846, 34640943, 34640971, 34642776, 34648459, 34652530, 34667253, 34669518, 34677290, 34677294, 34677354, 34679508, 34679796, 34682013, 34685724, 34691374, 34695956, 34695988, 34696107, 34696140, 34697560, 34697835, 34699374, 34699376, 34712756, 34713201, 34714862, 34718733, 34731773, 34731777, 34735346, 34736084, 34746114, 34747094, 34749093, 34752386, 34757101, 34760930, 34764557, 34764616, 34770303, 34770417, 34770610, 34770659, 34770706, 34770728, 34775155, 34777979, 34785076, 34788969, 34794003, 34799684, 34800788, 34805988, 34809589, 34812418, 34815490, 34819594, 34820408, 34823098, 34824599, 34825053, 34827133, 34827396, 34828088, 34830173, 34833616, 34833620, 34833658, 34833704, 34833739, 34833783, 34836728, 34836997, 34840561, 34843562, 34847019, 34847047, 34848298, 34855584, 34861642, 34864300, 34864301, 34868287, 34868531, 34873193, 34882224, 34883845, 34883853, 34883863, 34883888, 34884039, 34886099, 34887497, 34890325, 34891232, 34891233, 34891335, 34891354, 34891374, 34891489, 34891623, 34891722, 34891733, 34891759, 34891831, 34891955, 34892246, 34892335, 34892420, 34892481, 34892528, 34892607, 34892706, 34892814, 34892846, 34898852, 34899228, 34902850, 34906760, 34912534, 34915661, 34916659, 34917714, 34917715, 34921162, 34926739, 34927080, 34934785, 34940723, 34943549, 34946008, 34947098, 34950079, 34951857, 34956261, 34959282, 34960388, 34960430, 34960431, 34960479, 34960481, 34960569, 34962869, 34970131, 34970310, 34970887, 34971545, 34974516, 34975931, 34982682, 34988314, 34990353, 34993283, 34993287, 34995185, 34995944, 35007275, 35009660, 35009845, 35009865, 35013331, 35018875, 35022437, 35026573, 35035262, 35035591, 35036481, 35036528, 35041597, 35041609, 35044293, 35052158, 35054512, 35055616, 35060421, 35062101, 35062373, 35062378, 35062457, 35062531, 35062533, 35062534, 35062595, 35062603, 35062604, 35065332, 35072174, 35073274, 35081900, 35085071, 35087071, 35095128, 35095987, 35098819, 35102154, 35106730, 35107402, 35108200, 35111210, 35115622, 35115647, 35120015, 35120175, 35124369, 35125606, 35126500, 35131417, 35134081, 35135200, 35135226, 35136167, 35139499, 35140779, 35146090, 35146422, 35147525, 35148666, 35151153, 35152293, 35154616, 35154652, 35161448, 35161453, 35161511, 35161594, 35161604, 35161642, 35161666, 35161713, 35161819, 35161872, 35161986, 35162039, 35165308, 35168108, 35168220, 35172271, 35173225, 35174276, 35177780, 35178056, 35185507, 35186064, 35194546, 35196230, 35198020, 35198023, 35198677, 35198693, 35200530, 35201051, 35201982, 35202389, 35204628, 35204992, 35205547, 35208457, 35209523, 35209562, 35213600, 35214265, 35214275, 35214356, 35214579, 35221569, 35222214, 35242282, 35242895, 35242897, 35242904, 35242929, 35242944, 35245288, 35246576, 35250374, 35254424, 35256620, 35256923, 35260603, 35265118, 35270849, 35270896, 35270980, 35271058, 35271133, 35271608, 35273245, 35275780, 35276755, 35282177, 35288612, 35295638, 35299166, 35301830, 35303579, 35304652, 35307517, 35307991, 35308956, 35313248, 35313619, 35314725, 35316205, 35318170, 35327874, 35334647, 35336420, 35336451, 35336517, 35336548, 35336576, 35338176, 35340984, 35341030, 35341164, 35341199, 35342326, 35342328, 35342762, 35344440, 35345516, 35354132, 35356317, 35360826, 35366794, 35368931, 35369851, 35370596, 35371238, 35378817, 35385383, 35387250, 35388315, 35391615, 35392415, 35392615, 35393434, 35395464, 35398658, 35399758, 35402975, 35404821, 35408125, 35408163, 35408174, 35408335, 35408338, 35412980, 35413445, 35413589, 35420984, 35421708, 35427221, 35430839, 35431608, 35431777, 35434216, 35434261, 35434402, 35436615, 35437465, 35439141, 35439149, 35439663, 35440938, 35448213, 35449862, 35451939, 35453909, 35454714, 35458866, 35458885, 35458929, 35458932, 35459013, 35459084, 35462211, 35462216, 35471187, 35474916, 35476576, 35481552, 35482728, 35490964, 35492959, 35494817, 35494833, 35494856, 35494862, 35498188, 35498192, 35498207, 35498669, 35503854, 35506115, 35510259, 35510266, 35516001, 35521551, 35523129, 35528339, 35528343, 35533170, 35533990, 35538130, 35542510, 35545645, 35560076, 35571721, 35572043, 35572051, 35574231, 35574253, 35576409, 35576428, 35577298, 35582496, 35585077, 35587730, 35588419, 35588679, 35589793, 35590810, 35590933, 35590948, 35590965, 35591107, 35591192, 35591284, 35592315, 35601253, 35602644, 35603382, 35617191, 35619764, 35622238, 35626203, 35626587, 35632100, 35632233, 35632248, 35632270, 35632273, 35634051, 35634101, 35636749, 35639099, 35639329, 35642188, 35650172, 35653450, 35654623, 35655507, 35655509, 35655523, 35660753, 35668028, 35668134, 35668732, 35669053, 35671900, 35675352, 35677178, 35677455, 35677562, 35681226, 35681917, 35681929, 35684613, 35684807, 35684825, 35685012, 35685134, 35685165, 35687586, 35687629, 35692611, 35692664, 35693175, 35695825, 35700259, 35704543, 35707066, 35710769, 35712070, 35712454, 35712600, 35716434, 35717542, 35720890, 35721011, 35721403, 35722168, 35724280, 35730285, 35732690, 35733556, 35733575, 35734775, 35735474, 35741504, 35742136, 35744474, 35746145, 35746183, 35746234, 35746270, 35747074, 35747495, 35751184, 35752635, 35754963, 35755765, 35755875, 35759592, 35767486, 35768439, 35769703, 35770274, 35771753, 35774323, 35774441, 35776812, 35778754, 35780518, 35782048, 35784186, 35785084, 35785491, 35789577, 35800691, 35803947, 35808174, 35808177, 35808265, 35808434, 35808537, 35813964, 35814555, 35821713, 35821879, 35829811, 35835424, 35837650, 35840589, 35844262, 35845757, 35846606, 35847201, 35847545, 35847931, 35849019, 35849818, 35850482, 35853068, 35853437, 35857458, 35863201, 35863408, 35864133, 35864879, 35865283, 35865498, 35867207, 35867361, 35869249, 35872411, 35874680, 35875769, 35877624, 35877626, 35879326, 35881015, 35883293, 35885091, 35885099, 35885233, 35888868, 35890840, 35890893, 35890921, 35890933, 35890938, 35890950, 35890962, 35891009, 35891070, 35891138, 35891139, 35896797, 35897985, 35903217, 35909759, 35912199, 35912313, 35922418, 35923377, 35925956, 35928587, 35937881, 35942443, 35947566, 35953964, 35954449, 35957189, 35957397, 35957417, 35958770, 35958813, 35965754, 35965775, 35966244, 35968407, 35968483, 35969552, 35978901, 35978909, 35984774, 35985337, 35986065, 35987756, 35987777, 35990124, 35990134, 35990161, 35992353, 35999910, 36000494, 36002539, 36005457, 36007635, 36007730, 36009732, 36010265, 36012247, 36015692, 36015768, 36015776, 36015785, 36015939, 36016054, 36017261, 36018874, 36031086, 36033277, 36035663, 36041609, 36045956, 36048779, 36050386, 36052035, 36060067, 36061423, 36061597, 36061766, 36072854, 36075903, 36080813, 36080939, 36080978, 36081003, 36081022, 36081119, 36081169, 36083915, 36085662, 36085705, 36086084, 36086242, 36086294, 36086332, 36086459, 36086535, 36086619, 36091473, 36091976, 36092017, 36092792, 36093472, 36094924, 36094970, 36094995, 36098987, 36104508, 36105070, 36107899, 36109570, 36111284, 36119717, 36126026, 36138789, 36140543, 36141073, 36141162, 36141976, 36144161, 36146088, 36146152, 36146283, 36146369, 36146375, 36158581, 36159881, 36161186, 36161187, 36164293, 36164302, 36164614, 36166351, 36167846, 36169059, 36175557, 36175593, 36176130, 36176138, 36176149, 36178999, 36180444, 36180472, 36182306, 36186017, 36186840, 36188137, 36191350, 36195047, 36199373, 36201412, 36203733, 36207085, 36213547, 36215345, 36224799, 36229608, 36232840, 36234378, 36236238, 36236301, 36236306, 36236345, 36236360, 36236402, 36236417, 36236419, 36236424, 36236518, 36236738, 36236751, 36238826, 36239597, 36240135, 36242210, 36242835, 36248917, 36256021, 36256358, 36256722, 36257988, 36258895, 36262120, 36262999, 36266408, 36267236, 36267375, 36267472, 36268069, 36273010, 36275958, 36275977, 36275983, 36278390, 36278720, 36280098, 36281025, 36286379, 36289312, 36290269, 36290958, 36296053, 36296054, 36298058, 36298085, 36298140, 36298241, 36298260, 36298341, 36298415, 36298427, 36298902, 36305640, 36306297, 36310630, 36311549, 36312852, 36315481, 36318562, 36322242, 36325479, 36325548, 36327657, 36329789, 36341142, 36341448, 36349064, 36354881, 36356309, 36356391, 36358598, 36359124, 36359317, 36360144, 36365386, 36365807, 36365885, 36365888, 36365896, 36365922, 36365954, 36365964, 36365966, 36365970, 36366000, 36366136, 36366195, 36374877, 36380814, 36387749, 36399435, 36400378, 36401972, 36403827, 36403848, 36404909, 36405786, 36405787, 36406333, 36407848, 36407855, 36409715, 36418330, 36421501, 36421512, 36421616, 36424388, 36425990, 36426030, 36426059, 36426086, 36426263, 36428850, 36428875, 36432903, 36433209, 36433232, 36433303, 36433318, 36433508, 36433527, 36434070, 36435886, 36438381, 36440276, 36440280, 36443117, 36446878, 36448973, 36450807, 36460275, 36460662, 36460664, 36463241, 36467439, 36471847, 36473290, 36483290, 36496448, 36498058, 36502047, 36502068, 36502107, 36504422, 36506800, 36507376, 36509815, 36514990, 36516557, 36521357, 36525422, 36528813, 36530466, 36531561, 36531673, 36532597, 36532807, 36535968, 36539203, 36550943, 36552086, 36552237, 36552423, 36553197, 36553869, 36553920, 36554234, 36560117, 36560202, 36560237, 36560377, 36560385, 36561835, 36567215, 36570910, 36573880, 36574774, 36575078, 36585439, 36588953, 36589063, 36589068, 36590555, 36593326, 36599858, 36601346, 36602643, 36608462, 36611379, 36611459, 36612225, 36614655, 36616601, 36616609, 36616628, 36616653, 36616662, 36616688, 36616781, 36616794, 36616980, 36616991, 36617059, 36617111, 36617305, 36620463, 36621289, 36623839, 36638610, 36640529, 36641527, 36643891, 36650188, 36650800, 36659162, 36660560, 36662111, 36671671, 36671677, 36673072, 36673566, 36674161, 36677278, 36679478, 36679542, 36679571, 36679616, 36679637, 36679666, 36679738, 36679740, 36682155, 36682389, 36682524, 36685221, 36687207, 36698559, 36704718, 36706617, 36709787, 36711779, 36714842, 36716054, 36716494, 36717573, 36727436, 36733297, 36738556, 36743719, 36744085, 36744119, 36744120, 36746345, 36761406, 36761617, 36762990, 36766301, 36766490, 36767023, 36772315, 36772427, 36772428, 36772602, 36772631, 36772708, 36772768, 36774365, 36778885, 36785804, 36788792, 36792693, 36793542, 36798594, 36806209, 36812637, 36812742, 36813927, 36817095, 36819935, 36820128, 36821543, 36823158, 36823289, 36823835, 36824697, 36826957, 36827548, 36829040, 36829620, 36829679, 36831839, 36831862, 36832245, 36833142, 36836705, 36842221, 36844049, 36846857, 36849543, 36850389, 36850447, 36850512, 36850537, 36850567, 36850603, 36850753, 36850768, 36850882, 36850908, 36850936, 36859571, 36863120, 36867897, 36870286, 36872445, 36875220, 36875221, 36882099, 36882447, 36889058, 36898147, 36899547, 36899552, 36904590, 36904634, 36904683, 36904751, 36904797, 36904813, 36904814, 36904951, 36904953, 36904963, 36904983, 36905020, 36905024, 36908782, 36934918, 36936631, 36936638, 36949356, 36978673, 36979795, 36982048, 36982398, 36983817, 36988838, 36989446, 36991676, 36991700, 36991768, 36991791, 36991845, 36991872, 36992042, 36993854, 37002466, 37011278, 37015456, 37015466, 37015477, 37015478, 37015555, 37018638, 37018673, 37018823, 37021867, 37021902, 37021904, 37022035, 37022103, 37022411, 37022878, 37022904, 37022917, 37025102, 37025508, 37027660, 37027667, 37028043, 37028070, 37030724, 37030821, 37030826, 37030853, 37030859, 37035347, 37040281, 37043325, 37044051, 37045943, 37049566, 37050451, 37050481, 37050521, 37050637, 37050705, 37050773, 37050825, 37050833, 37053054, 37063977, 37070119, 37078369, 37079422, 37079543, 37080005, 37083516, 37085691, 37087255, 37088980, 37097998, 37100505, 37103010, 37103231, 37103233, 37103473, 37111874, 37112147, 37112182, 37112424, 37113774, 37115835, 37117323, 37122921, 37123817, 37126620, 37126638, 37127366, 37130246, 37139756, 37139766, 37145250, 37146182, 37152415, 37155461, 37156287, 37157691, 37159441, 37161111, 37161131, 37161147, 37161193, 37161204, 37161250, 37163964, 37171681, 37174483, 37174810, 37174975, 37177425, 37177465, 37177519, 37177525, 37177528, 37177616, 37182344, 37190650, 37192634, 37192662, 37196649, 37198389, 37203550, 37205989, 37210582, 37214339, 37216233, 37220042, 37224002, 37224364, 37227905, 37228698, 37232386, 37238206, 37238266, 37241531, 37241571, 37243520, 37254843, 37260834, 37261261, 37265658, 37268666, 37270898, 37272001, 37276100, 37280249, 37285334, 37293591, 37294647, 37296756, 37299784, 37299830, 37299996, 37300004, 37303525, 37304664, 37311807, 37316526, 37318860, 37318978, 37322088, 37322924, 37322972, 37325864, 37328335, 37332866, 37332873, 37335800, 37338291, 37338799, 37339154, 37340248, 37342143, 37346069, 37346133, 37346313, 37351347, 37352128, 37353581, 37354820, 37359327, 37360313, 37360315, 37360543, 37362232, 37362570, 37362642, 37362680, 37362687, 37362733, 37367468, 37369643, 37369715, 37370580, 37370585, 37371819, 37372191, 37372235, 37372297, 37377956, 37382113, 37383782, 37383784, 37383801, 37383808, 37383818, 37386021, 37386432, 37386956, 37402189, 37408584, 37409295, 37416082, 37417817, 37418414, 37419881, 37420473, 37420495, 37420588, 37420591, 37420642, 37420760, 37420776, 37420789, 37420821, 37420835, 37420853, 37420879, 37420921, 37426539, 37426620, 37430502, 37430521, 37430525, 37430644, 37430654, 37430706, 37430711, 37430839, 37432803, 37441626, 37443876, 37444410, 37447625, 37447660, 37447703, 37447730, 37447864, 37447886, 37447906, 37447909, 37447982, 37448044, 37448062, 37451561, 37454514, 37456109, 37456112, 37457003, 37459674, 37459792, 37461545, 37467097, 37467653, 37473633, 37474522, 37475875, 37478039, 37480598, 37484219, 37486440, 37490373, 37491536, 37495578, 37495716, 37496740, 37498758, 37498811, 37499032, 37502627, 37506000, 37509969, 37512598, 37514261, 37514572, 37514593, 37514622, 37514812, 37514933, 37514937, 37520649, 37520832, 37521179, 37528294, 37531948, 37538957, 37544660, 37549071, 37557055, 37565705, 37566602, 37567214, 37567456, 37571493, 37571522, 37571556, 37571588, 37571606, 37571626, 37571739, 37573385, 37577735, 37577737, 37578922, 37579550, 37581961, 37587836, 37591898, 37600131, 37600140, 37600141, 37600220, 37603480, 37607968, 37609238, 37612295, 37612329, 37612354, 37612427, 37619510, 37621882, 37622891, 37622950, 37623697, 37625508, 37631564, 37631565, 37631572, 37631682, 37631685, 37631689, 37631693, 37631809, 37636134, 37645167, 37647318, 37658057, 37660120, 37660146, 37660356, 37662197, 37670019, 37672380, 37673586, 37674052, 37674508, 37679397, 37682647, 37682956, 37687819, 37687825, 37688038, 37688096, 37689601, 37703142, 37709009, 37710835, 37711291, 37716199, 37716244, 37717642, 37719879, 37723189, 37725725, 37727590, 37730822, 37731760, 37732295, 37732325, 37735296, 37737210, 37737276, 37738251, 37741068, 37742419, 37745317, 37754952, 37757933, 37759894, 37760324, 37761345, 37761640, 37761649, 37765490, 37765771, 37765849, 37765994, 37766026, 37766339, 37766938, 37767108, 37767129, 37771492, 37772947, 37773900, 37773958, 37774559, 37774560, 37778215, 37779221, 37788215, 37809163, 37810365, 37813932, 37815969, 37816815, 37816818, 37819807, 37822532, 37822886, 37827068, 37827169, 37830110, 37831560, 37832241, 37836861, 37836936, 37836958, 37837019, 37837064, 37844566, 37847731, 37857282, 37857688, 37860063, 37862866, 37863902, 37863973, 37864911, 37869278, 37869811, 37871377, 37874810, 37875484, 37876902, 37885456, 37887615, 37888306, 37888308, 37888312, 37889117, 37889716, 37889811, 37890682, 37892066, 37892863, 37892876, 37892930, 37896446, 37896450, 37896468, 37896542, 37896668, 37903415, 37914729, 37919997, 37920007, 37920032, 37920040, 37920287, 37920385, 37920387, 37921010, 37929164, 37932395, 37935738, 37938070, 37939391, 37944367, 37948140, 37948948, 37949938, 37954097, 37958088, 37960364, 37960393, 37960411, 37960427, 37960492, 37960509, 37960530, 37960612, 37960688, 37960690, 37965007, 37965597, 37965616, 37966335, 37972453, 37973987, 37974215, 37980937, 37983648, 37988352, 37989945, 37998085, 37998213, 38001939, 38003205, 38005489, 38005619, 38005647, 38005675, 38007800, 38012620, 38016453, 38017866, 38019827, 38020427, 38020433, 38020443, 38020444, 38023901, 38029444, 38032778, 38034069, 38035197, 38036757, 38040715, 38042594, 38042892, 38043363, 38046604, 38047289, 38052569, 38052572, 38052575, 38052599, 38052636, 38055710, 38059336, 38059426, 38061169, 38067855, 38067906, 38067941, 38067946, 38067982, 38072768, 38075609, 38075615, 38075620, 38076476, 38082579, 38082607, 38082835, 38083035, 38083061, 38083079, 38083098, 38083138, 38083432, 38083525, 38083558, 38083593, 38083747, 38090475, 38090841, 38090844, 38092796, 38094987, 38096147, 38096324, 38100434, 38113669, 38114574, 38114592, 38116146, 38117776, 38123970, 38125309, 38125368, 38127596, 38129680, 38132680, 38134446, 38136819, 38139375, 38139528, 38139714, 38142226, 38146299, 38146308, 38146434, 38146469, 38148822, 38150134, 38152500, 38157647, 38160703, 38161801, 38162817, 38167475, 38168493, 38168517, 38169861, 38170146, 38178412, 38179668, 38180957, 38184603, 38186736, 38191900, 38192165, 38200890, 38202924, 38202937, 38203057, 38203059, 38203070, 38203164, 38206963, 38218366, 38222369, 38222424, 38226040, 38229926, 38236667, 38239213, 38241254, 38244370, 38245589, 38250116, 38250440, 38251198, 38257412, 38257434, 38257495, 38257544, 38257673, 38257678, 38259880, 38263280, 38265301, 38269876, 38269989, 38273072, 38274053, 38274947, 38276329, 38276333, 38276352, 38276360, 38276371, 38278090, 38280598, 38285380, 38287953, 38290283, 38293577, 38296997, 38298467, 38299104, 38304387, 38304457, 38310143, 38311896, 38315605, 38317727, 38317836, 38325013, 38327447, 38328194, 38328285, 38328289, 38328293, 38328501, 38329861, 38330754, 38331912, 38333425, 38333823, 38338110, 38338141, 38339454, 38339542, 38339609, 38339611, 38342080, 38342930, 38343251, 38345954, 38348321, 38348323, 38348328, 38348746, 38350398, 38354162, 38356580, 38357457, 38357591, 38358992, 38359195, 38359641, 38362300, 38365977, 38367501, 38370222, 38370513, 38370710, 38370917, 38371369, 38373135, 38375908, 38376978, 38379833, 38382711, 38383776, 38384147, 38384766, 38386579, 38387385, 38389956, 38392417, 38394274, 38396538, 38400229, 38400332, 38400340, 38400357, 38400377, 38400378, 38400416, 38400427, 38400510, 38402249, 38403599, 38403600, 38405218, 38406245, 38418987, 38424103, 38425879, 38429260, 38431619, 38434048, 38435572, 38435604, 38435728, 38435729, 38437139, 38437335, 38437388, 38440133, 38443454, 38445198, 38448760, 38449788, 38450198, 38451909, 38454663, 38454670, 38459115, 38461303, 38462270, 38462279, 38465873, 38468706, 38474890, 38475043, 38477672, 38481705, 38482049, 38485707, 38487800, 38491000, 38495193, 38498747, 38501075, 38507378, 38508046, 38511233, 38512817, 38512907, 38514661, 38519513, 38524840, 38525302, 38526891, 38526900, 38527809, 38528747, 38529064, 38533112, 38533124, 38533631, 38536687, 38536691, 38536782, 38539605, 38541070, 38541743, 38544056, 38544094, 38544107, 38544129, 38544204, 38544224, 38544233, 38548727, 38549297, 38553155, 38553161, 38554543, 38557612, 38557696, 38559667, 38559819, 38560380, 38564622, 38573887, 38575749, 38578388, 38582756, 38587767, 38587768, 38587950, 38590615, 38590617, 38594314, 38598505, 38601620, 38605057, 38605088, 38609405, 38610342, 38610392, 38610419, 38610497, 38610564, 38612329, 38612345, 38615042, 38616199, 38617132, 38619962, 38621046, 38621142, 38621172, 38624364, 38629163, 38630706, 38630958, 38632207, 38634890, 38635663, 38635837, 38638453, 38638495, 38640696, 38641229, 38641580, 38645586, 38647355, 38647635, 38648156, 38653078, 38653912, 38654066, 38654070, 38655356, 38660180, 38660197, 38660206, 38661128, 38665978, 38667976, 38667983, 38667992, 38669166, 38670301, 38671005, 38672300, 38675268, 38676108, 38676137, 38676149, 38676184, 38676191, 38676211, 38676235, 38676267, 38677632, 38680450, 38684154, 38684909, 38686004, 38686006, 38686011, 38687722, 38691169, 38691542, 38693340, 38698118, 38699605, 38699612, 38701773, 38702373, 38702502, 38705172, 38708296, 38708312, 38710786, 38711738, 38713340, 38722724, 38722916, 38724595, 38724597, 38728992, 38730236, 38731320, 38732808, 38732921, 38733002, 38733010, 38733015, 38733038, 38740777, 38740903, 38742142, 38744841, 38747358, 38748365, 38750270, 38753547, 38753628, 38757187, 38758617, 38770292, 38771681, 38772748, 38773111, 38774068, 38774242, 38784111, 38785733, 38786563, 38787666, 38789016, 38790312, 38790320, 38790494, 38793830, 38793886, 38793929, 38794015, 38794068, 38794106, 38794447, 38795358, 38796921, 38798471, 38799716, 38802373, 38803603, 38803938, 38805753, 38806483, 38826642, 38826670, 38830969, 38832629, 38833282, 38837924, 38838537, 38843129, 38844496, 38846372, 38850624, 38850638, 38852608, 38861440, 38861442, 38861953, 38862723, 38863504, 38863551, 38866803, 38866813, 38868383, 38870159, 38870208, 38871800, 38872559, 38872936, 38874706, 38875077, 38877787, 38879021, 38879512, 38882193, 38885097, 38889039, 38890584, 38890938, 38891389, 38893700, 38894067, 38894113, 38894125, 38894141, 38894164, 38894215, 38894248, 38894254, 38894387, 38894399, 38894402, 38894423, 38894429, 38894469, 38894473, 38898046, 38903736, 38904318, 38905284, 38909147, 38910179, 38910343, 38912421, 38917288, 38921244, 38927405, 38929335, 38929643, 38931053, 38931675, 38931682, 38932464, 38936168, 38937337, 38945182, 38945236, 38948047, 38948230, 38952709, 38952939, 38954380, 38954842, 38956109, 38956728, 38959111, 38962186, 38962203, 38962207, 38965305, 38968142, 38970120, 38974473, 38977922, 38981215, 38982093, 38982142, 38983201, 38983220, 38997323, 38997427, 38997508, 39000832, 39000847, 39000914, 39000981, 39000982, 39001112, 39001141, 39001157, 39001199, 39001267, 39004635, 39006348, 39011450, 39013928, 39014269, 39021936, 39022822, 39024104, 39028808, 39029548, 39030186, 39032237, 39033946, 39040066, 39040365, 39043107, 39044970, 39045382, 39046954, 39049967, 39050666, 39054356, 39054996, 39056903, 39057289, 39057726, 39060307, 39061490, 39064347, 39064375, 39065829, 39065894, 39065910, 39065916, 39065920, 39065928, 39065955, 39065979, 39066011, 39066015, 39066029, 39066043, 39066046, 39071431, 39071962, 39071970, 39072727, 39074015, 39076831, 39080882, 39080899, 39080908, 39081492, 39083461, 39090266, 39094861, 39097663, 39100771, 39100781, 39101033, 39103399, 39104696, 39106147, 39107306, 39116530, 39119352, 39122365, 39123715, 39123850, 39123851, 39123882, 39124108, 39124111, 39124187, 39126204, 39130161, 39134549, 39134589, 39139386, 39149605, 39149720, 39150930, 39151459, 39154107, 39158232, 39158683, 39162064, 39169054, 39173976, 39176937, 39178070, 39179191, 39184041, 39186838, 39188909, 39190238, 39191783, 39194625, 39196384, 39197056, 39198445, 39199511, 39199740, 39202233, 39204881, 39204903, 39204933, 39205101, 39206221, 39206753, 39209880, 39211486, 39212564, 39215126, 39220022, 39223468, 39233689, 39234059, 39236127, 39242622, 39247276, 39247290, 39251659, 39252768, 39252773, 39252775, 39252777, 39252780, 39253183, 39255152, 39255172, 39255190, 39259689, 39260008, 39269905, 39270990, 39272595, 39272743, 39275411, 39275485, 39275552, 39275707, 39275739, 39276433, 39278962, 39283803, 39286137, 39286573, 39287713, 39292574, 39292591, 39293728, 39298728, 39300076, 39300129, 39304032, 39312428, 39312439, 39314713, 39316475, 39321585, 39321841, 39323931, 39328315, 39328965, 39328967, 39329672, 39330436, 39330453, 39333541, 39334295, 39335759, 39335778, 39338694, 39338770, 39338829, 39348530, 39348741, 39356610, 39357171, 39360688, 39362909, 39366220, 39368528, 39369633, 39377740, 39380895, 39384601, 39384776, 39386784, 39389990, 39390063, 39398211, 39399539, 39405777, 39406122, 39408306, 39409223, 39409253, 39409277, 39409300, 39409327, 39409423, 39409426, 39409499, 39411512, 39414802, 39419718, 39419830, 39421756, 39423501, 39427015, 39428551, 39436156]\n",
      "Result: [33114599, 38076476]\n"
     ]
    }
   ],
   "source": [
    "quary = 'music guitar dataset'\n",
    "def and_query(quary : str):\n",
    "   matchingDocList = []\n",
    "   wordList = preprocess(tokenize(quary))\n",
    "   print(wordList)\n",
    "   for word in wordList:\n",
    "      matchingDocList.append(inverted_index[word])\n",
    "      print(word, \": \", inverted_index[word])\n",
    "\n",
    "   result = matchingDocList[0]\n",
    "   \n",
    "   if len(matchingDocList) <= 1 and len(matchingDocList) >= 0:\n",
    "      return result\n",
    "   elif len(matchingDocList) > 1:\n",
    "      for list in matchingDocList:\n",
    "            result = merge_sorted_and(result, list)\n",
    "      return result\n",
    "\n",
    "result = and_query(quary)\n",
    "print('Result:', result)\n",
    "# 28450846 for guitar not found!\n"
   ]
  },
  {
   "cell_type": "markdown",
   "metadata": {
    "id": "4VRzOafAZ_37"
   },
   "source": [
    "### Task 4\n",
    "\n",
    "Construct another function called `query_or` that works in the same way as `query_and` you just implemented, but returns as function value the documents that contain _at least one_ of the words in the query, using the `merge_sorted_or` function you defined.\n",
    "\n",
    "Demonstrate the working of this function also with an example (again, choose one that leads to fewer than 100 hits)."
   ]
  },
  {
   "cell_type": "code",
   "execution_count": 13,
   "metadata": {
    "id": "K1n7n-veZ_37",
    "tags": []
   },
   "outputs": [
    {
     "name": "stdout",
     "output_type": "stream",
     "text": [
      "['rot', 'paprika']\n",
      "rot :  [6651628, 8357266, 9458465, 10561563, 12044164, 15587060, 15646387, 16111660, 16137939, 16722218, 18366691, 18414867, 20814880, 22098923, 22164262, 22410227, 23241374, 23781227, 23864721, 24068949, 24244329, 25155950, 25156425, 25195759, 25209639, 25264384, 25461894, 25710204, 25981242, 26743436, 27474520, 27915254, 28466394, 28824840, 29075283, 29171909, 29528269, 29581059, 29648614, 29855494, 30004290, 30265484, 30677388, 30930291, 31138867, 31231526, 31553759, 31783543, 31819959, 31914162, 32757400, 32946336, 33217212, 33441827, 33890145, 34550751, 34576713, 34691104, 35308372, 35344759, 35550926, 35780085, 35891126, 36335652, 36479145, 36699593, 37174343, 37204527, 37465018, 37510351, 37741265, 37864214, 37945245, 38320984, 38515330, 38685961, 38822520, 38929736, 39186063, 39240997]\n",
      "paprika :  [4002864, 25059124, 36275542]\n",
      "Result: [4002864, 6651628, 8357266, 9458465, 10561563, 12044164, 15587060, 15646387, 16111660, 16137939, 16722218, 18366691, 18414867, 20814880, 22098923, 22164262, 22410227, 23241374, 23781227, 23864721, 24068949, 24244329, 25059124, 25155950, 25156425, 25195759, 25209639, 25264384, 25461894, 25710204, 25981242, 26743436, 27474520, 27915254, 28466394, 28824840, 29075283, 29171909, 29528269, 29581059, 29648614, 29855494, 30004290, 30265484, 30677388, 30930291, 31138867, 31231526, 31553759, 31783543, 31819959, 31914162, 32757400, 32946336, 33217212, 33441827, 33890145, 34550751, 34576713, 34691104, 35308372, 35344759, 35550926, 35780085, 35891126, 36275542, 36335652, 36479145, 36699593, 37174343, 37204527, 37465018, 37510351, 37741265, 37864214, 37945245, 38320984, 38515330, 38685961, 38822520, 38929736, 39186063, 39240997]\n"
     ]
    }
   ],
   "source": [
    "quary = 'rot paprika'\n",
    "def or_query(quary : str):\n",
    "   matchingDocList = []\n",
    "   wordList = preprocess(tokenize(quary))\n",
    "   print(wordList)\n",
    "   for word in wordList:\n",
    "      matchingDocList.append(inverted_index[word])\n",
    "      print(word, \": \", inverted_index[word])\n",
    "\n",
    "   result = matchingDocList[0]\n",
    "   \n",
    "   if len(matchingDocList) <= 1 and len(matchingDocList) >= 0:\n",
    "      return result\n",
    "   elif len(matchingDocList) > 1:\n",
    "      for list in matchingDocList:\n",
    "            result = merge_sorted_or(result, list)\n",
    "      return result\n",
    "\n",
    "result = or_query(quary)\n",
    "print('Result:', result)\n"
   ]
  },
  {
   "cell_type": "markdown",
   "metadata": {
    "id": "HaNZGq8PZ_38"
   },
   "source": [
    "### Task 5\n",
    "\n",
    "Why does `query_sorted_and('music guitar')` not return our example paper 28450846, even though it mentions these terms in the title and abstract? (You do not have to implement anything to fix this yet!)"
   ]
  },
  {
   "cell_type": "markdown",
   "metadata": {
    "id": "F_vmfd1fZ_38"
   },
   "source": [
    "In our current tokenize function the quary is split in the so called \"naive\" way. By that it means that it is split only when an empty space is detacted which does not account for any punctiation happening direcrtly after the token itself. In the 28450846 text the word guitar is followed by and ',' which makes it different from the token 'guitar' not adding to the list. "
   ]
  },
  {
   "cell_type": "markdown",
   "metadata": {
    "id": "_vSIYm2rZ_38"
   },
   "source": [
    "# Submission"
   ]
  },
  {
   "cell_type": "markdown",
   "metadata": {
    "id": "kNrQUUY8Z_38"
   },
   "source": [
    "Submit the answers to the assignment via Canvas as a modified version of this Notebook file (file with `.ipynb` extension) that includes your code and your answers.\n",
    "\n",
    "Before submitting, restart the kernel and re-run the complete code (**Kernel > Restart & Run All**), and then check whether your assignment code still works as expected.\n",
    "\n",
    "Don't forget to add your name, and remember that the assignments have to be done **individually**, and that code sharing or copying are **strictly forbidden** and will be punished."
   ]
  },
  {
   "cell_type": "code",
   "execution_count": null,
   "metadata": {
    "id": "zRtM3zsmZ_38"
   },
   "outputs": [],
   "source": []
  }
 ],
 "metadata": {
  "colab": {
   "provenance": []
  },
  "kernelspec": {
   "display_name": "base",
   "language": "python",
   "name": "python3"
  },
  "language_info": {
   "codemirror_mode": {
    "name": "ipython",
    "version": 3
   },
   "file_extension": ".py",
   "mimetype": "text/x-python",
   "name": "python",
   "nbconvert_exporter": "python",
   "pygments_lexer": "ipython3",
   "version": "3.12.7"
  }
 },
 "nbformat": 4,
 "nbformat_minor": 4
}
